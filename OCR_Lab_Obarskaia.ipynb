{
 "cells": [
  {
   "cell_type": "markdown",
   "metadata": {
    "execution": {
     "iopub.execute_input": "2023-02-10T19:13:45.131578Z",
     "iopub.status.busy": "2023-02-10T19:13:45.131136Z",
     "iopub.status.idle": "2023-02-10T19:13:45.139219Z",
     "shell.execute_reply": "2023-02-10T19:13:45.138158Z",
     "shell.execute_reply.started": "2023-02-10T19:13:45.131539Z"
    }
   },
   "source": [
    "\n",
    "### Установим базовые настройки для обучения\n",
    "В качестве размера батча лучшие результаты обучения модели достигались при количестве картинок 6-8 в батче. Тестирование модели и отладка проводились в основном в течение 70 эпох, за это время можно было понять, обучается ли в целом модель и есть ли шанс на улучшение ее качества.\n",
    "Для наилучшего результата в конце будем будем обучать модель на протяжении 200 эпох"
   ]
  },
  {
   "cell_type": "code",
   "execution_count": 1,
   "metadata": {
    "execution": {
     "iopub.execute_input": "2023-02-13T14:17:37.289331Z",
     "iopub.status.busy": "2023-02-13T14:17:37.288456Z",
     "iopub.status.idle": "2023-02-13T14:17:39.472478Z",
     "shell.execute_reply": "2023-02-13T14:17:39.471290Z",
     "shell.execute_reply.started": "2023-02-13T14:17:37.288912Z"
    }
   },
   "outputs": [
    {
     "name": "stdout",
     "output_type": "stream",
     "text": [
      "Using GPU: Tesla T4\n"
     ]
    }
   ],
   "source": [
    "NUM_WORKERS = 1\n",
    "EPOCHS = 200\n",
    "BATCH_SIZE = 8 \n",
    "\n",
    "import torch\n",
    "if torch.cuda.is_available():\n",
    "    DEVICE = torch.device('cuda')\n",
    "    print('Using GPU:', torch.cuda.get_device_name(0))\n",
    "else:\n",
    "    DEVICE = torch.device('cpu')\n",
    "    print('No GPU, Using CPU instead')"
   ]
  },
  {
   "cell_type": "markdown",
   "metadata": {},
   "source": [
    "### Обучение модели проводилось в ноутбуке кэггл, так как платформа предоставляет GPU обычным пользователям\n",
    "Кэггл позволяет загрузить до 1000 картинок из любого датасета, поэтому количество картинок, доступных для обучения было сокращено до 1000. \n",
    "\n",
    "Будем обучать сверточную нейросеть (по большей части) со слоем LSTM предсказывать последовательность наиболее вероятно встречающихся лейблов, соответствующих символам, изображенным на картинке, на предобработанных картинках из датасета капчей. \n",
    "\n",
    "В качестве \"финального\" лейбла выступает название картинки без учета разрешения. На выходе из модели предсказанная последовательность будет декодироваться и сравниваться с оригинальным лейблом картинки, считаться ошибка CER. \n",
    "\n",
    "Предобработаем названия картинок для того, чтобы в дальнейшем применить к ним LabelEncoder и получить численное представление каждого лейбла для обучения. Единицей предсказания модели будет цифра (закодированный символ) из числа всех символов, присутствующих в лейблах и 'пустого' символа. Нет особого смысла брать весь алфавит и все цифры в качестве всех возможных лейблов, так как для данного датасета нам известны все лейблы (нет скрытой валидационной выборки) и можно сузить \"круг поиска\"\n",
    "\n",
    "Загрузим датасет, указав путь к нему, проанализируем лейблы"
   ]
  },
  {
   "cell_type": "code",
   "execution_count": 2,
   "metadata": {
    "execution": {
     "iopub.execute_input": "2023-02-13T14:17:44.262039Z",
     "iopub.status.busy": "2023-02-13T14:17:44.261183Z",
     "iopub.status.idle": "2023-02-13T14:17:44.517389Z",
     "shell.execute_reply": "2023-02-13T14:17:44.516284Z",
     "shell.execute_reply.started": "2023-02-13T14:17:44.262002Z"
    }
   },
   "outputs": [
    {
     "data": {
      "text/plain": [
       "([['6', 'n', '6', 'g', 'g'], ['f', 'n', 'c', 'n', 'b']],\n",
       " ['6', 'n', '6', 'g', 'g', 'f', 'n', 'c', 'n', 'b'],\n",
       " '/kaggle/input/sample/captcha/nxf2c.jpg')"
      ]
     },
     "execution_count": 2,
     "metadata": {},
     "output_type": "execute_result"
    }
   ],
   "source": [
    "import os\n",
    "import numpy as np\n",
    "\n",
    "path = '/kaggle/input/sample/captcha/'\n",
    "image_names_lst = os.listdir(path)\n",
    "image_paths = [path + image_path for image_path in image_names_lst]\n",
    "labels = [lab[:-4] for lab in image_names_lst]\n",
    "labels = [[char for char in label] for label in labels]\n",
    "labels_all = [char for chars in labels for char in chars]\n",
    "labels[:2], labels_all[:10], image_paths[2]"
   ]
  },
  {
   "cell_type": "code",
   "execution_count": 3,
   "metadata": {
    "execution": {
     "iopub.execute_input": "2023-02-13T14:17:45.702050Z",
     "iopub.status.busy": "2023-02-13T14:17:45.701703Z",
     "iopub.status.idle": "2023-02-13T14:17:45.708550Z",
     "shell.execute_reply": "2023-02-13T14:17:45.707355Z",
     "shell.execute_reply.started": "2023-02-13T14:17:45.702019Z"
    }
   },
   "outputs": [
    {
     "name": "stdout",
     "output_type": "stream",
     "text": [
      "В моем датасете картинок всего 1000 элементов\n"
     ]
    }
   ],
   "source": [
    "print('В моем датасете картинок всего', len(image_paths), 'элементов')"
   ]
  },
  {
   "cell_type": "markdown",
   "metadata": {},
   "source": [
    "### Посмотрим на первые картинки в датасете"
   ]
  },
  {
   "cell_type": "code",
   "execution_count": 4,
   "metadata": {
    "execution": {
     "iopub.execute_input": "2023-02-13T14:17:46.195821Z",
     "iopub.status.busy": "2023-02-13T14:17:46.195508Z",
     "iopub.status.idle": "2023-02-13T14:17:46.220731Z",
     "shell.execute_reply": "2023-02-13T14:17:46.219726Z",
     "shell.execute_reply.started": "2023-02-13T14:17:46.195792Z"
    }
   },
   "outputs": [
    {
     "data": {
      "image/png": "[encoded data removed]",
      "text/plain": [
       "<PIL.Image.Image image mode=RGB size=200x50>"
      ]
     },
     "execution_count": 4,
     "metadata": {},
     "output_type": "execute_result"
    }
   ],
   "source": [
    "from PIL import Image\n",
    "Image.open(image_paths[0]).convert('RGB')"
   ]
  },
  {
   "cell_type": "code",
   "execution_count": 5,
   "metadata": {
    "execution": {
     "iopub.execute_input": "2023-02-13T14:17:46.505091Z",
     "iopub.status.busy": "2023-02-13T14:17:46.504021Z",
     "iopub.status.idle": "2023-02-13T14:17:46.520775Z",
     "shell.execute_reply": "2023-02-13T14:17:46.519943Z",
     "shell.execute_reply.started": "2023-02-13T14:17:46.505048Z"
    }
   },
   "outputs": [
    {
     "data": {
      "image/png": "[encoded data removed]",
      "text/plain": [
       "<PIL.Image.Image image mode=RGB size=200x50>"
      ]
     },
     "execution_count": 5,
     "metadata": {},
     "output_type": "execute_result"
    }
   ],
   "source": [
    "Image.open(image_paths[1]).convert('RGB')"
   ]
  },
  {
   "cell_type": "markdown",
   "metadata": {},
   "source": [
    "### Проверим расширения всех файлов\n",
    "Так как из-за этого может потребоваться предобрабатывать некоторые картинки отдельно."
   ]
  },
  {
   "cell_type": "code",
   "execution_count": 6,
   "metadata": {
    "execution": {
     "iopub.execute_input": "2023-02-13T14:17:47.296334Z",
     "iopub.status.busy": "2023-02-13T14:17:47.295858Z",
     "iopub.status.idle": "2023-02-13T14:17:47.303210Z",
     "shell.execute_reply": "2023-02-13T14:17:47.302008Z",
     "shell.execute_reply.started": "2023-02-13T14:17:47.296296Z"
    }
   },
   "outputs": [
    {
     "name": "stdout",
     "output_type": "stream",
     "text": [
      "jpg png\n"
     ]
    }
   ],
   "source": [
    "extensions = [i[-3:] for i in image_names_lst]\n",
    "print(*np.unique(extensions))"
   ]
  },
  {
   "cell_type": "markdown",
   "metadata": {},
   "source": [
    "В датасете присутствуют jpg, png картинки. Они отличаются числом каналов. Данные картинки мы будем конвертировать в RGB изображение с помощью библиотеки PIL, так как 4й канал особо не играет роли в нашей задаче - картинки черно-белые.\n",
    "\n",
    "Так как картинки черно-белые, мы могли бы их приводить к одноканальному изображению и подавать в модель, но тогда число обучаемых весов в первом слое нейросети пришлось бы увеличивать пропорционально. Первоначально какие-либо изменения картинки не использовались и анализировалось 3х канальное изображение.\n",
    "Обучение модели на трехканальном изображении происходило лучше (разница в 10% accuracy), чем на одноканальном, хоть и предобработанном (использование трешхолдинга, попытки избавиться от шумов и полос с помощью erode, opening, dilation) при одинаковой структуре нейросети. Поэтому в данном случае будет использоваться трехканальное изображение RGB, так как хорошего качества с использованием одноканального изображения добиться не получилось, не усложняя при этом модель еще больше"
   ]
  },
  {
   "cell_type": "code",
   "execution_count": 7,
   "metadata": {
    "execution": {
     "iopub.execute_input": "2023-02-13T14:17:48.721766Z",
     "iopub.status.busy": "2023-02-13T14:17:48.720798Z",
     "iopub.status.idle": "2023-02-13T14:17:48.737376Z",
     "shell.execute_reply": "2023-02-13T14:17:48.736358Z",
     "shell.execute_reply.started": "2023-02-13T14:17:48.721719Z"
    }
   },
   "outputs": [
    {
     "data": {
      "text/plain": [
       "((50, 200, 3), (50, 200, 4))"
      ]
     },
     "execution_count": 7,
     "metadata": {},
     "output_type": "execute_result"
    }
   ],
   "source": [
    "from PIL import Image\n",
    "jpgs = [i for i in image_paths if i[-3:] == 'jpg']\n",
    "pngs = [i for i in image_paths if i[-3:] == 'png']\n",
    "np.array(Image.open(jpgs[0])).shape, np.array(Image.open(pngs[0])).shape"
   ]
  },
  {
   "cell_type": "markdown",
   "metadata": {},
   "source": [
    "### Убедимся, что все изображения имеют одинаковый размер"
   ]
  },
  {
   "cell_type": "code",
   "execution_count": 8,
   "metadata": {
    "execution": {
     "iopub.execute_input": "2023-02-13T14:17:49.944729Z",
     "iopub.status.busy": "2023-02-13T14:17:49.943960Z",
     "iopub.status.idle": "2023-02-13T14:17:50.843690Z",
     "shell.execute_reply": "2023-02-13T14:17:50.842655Z",
     "shell.execute_reply.started": "2023-02-13T14:17:49.944690Z"
    }
   },
   "outputs": [],
   "source": [
    "for img in image_paths:\n",
    "    h, w, c = np.array(Image.open(jpgs[0]).convert('RGB')).shape\n",
    "    if h != 50 or w != 200:\n",
    "        print(img)\n",
    "        break"
   ]
  },
  {
   "cell_type": "markdown",
   "metadata": {},
   "source": [
    "### Таким образом, все предобработанные картинки будут иметь одинаковые размеры (HxWxC)"
   ]
  },
  {
   "cell_type": "code",
   "execution_count": 9,
   "metadata": {
    "execution": {
     "iopub.execute_input": "2023-02-13T14:17:50.846898Z",
     "iopub.status.busy": "2023-02-13T14:17:50.845690Z",
     "iopub.status.idle": "2023-02-13T14:17:50.856831Z",
     "shell.execute_reply": "2023-02-13T14:17:50.855704Z",
     "shell.execute_reply.started": "2023-02-13T14:17:50.846858Z"
    }
   },
   "outputs": [
    {
     "data": {
      "text/plain": [
       "((50, 200, 3), (50, 200, 3))"
      ]
     },
     "execution_count": 9,
     "metadata": {},
     "output_type": "execute_result"
    }
   ],
   "source": [
    "np.array(Image.open(jpgs[0]).convert('RGB')).shape, np.array(Image.open(pngs[0]).convert('RGB')).shape"
   ]
  },
  {
   "cell_type": "markdown",
   "metadata": {},
   "source": [
    "### Воспользуемся кодировкой лейблов \n",
    "Так как мы будем угадывать лейбл картинки путем генерации последовательных символов, нам нужно закодировать все имеющиеся в капчах символы в классы. Из всех встречающихся символов и цифр получилось 19 уникальных символов, добавим к ним еще один лейбл - нулевой, который будет играть роль пустого токена (лейбла). Данный лейбл необходим для распознавания последовательности с повторяющимися символами, чтобы при обратном декодировании предсказанной последовательности эти символы не склеивались в один"
   ]
  },
  {
   "cell_type": "code",
   "execution_count": 10,
   "metadata": {
    "execution": {
     "iopub.execute_input": "2023-02-13T14:17:51.811909Z",
     "iopub.status.busy": "2023-02-13T14:17:51.811554Z",
     "iopub.status.idle": "2023-02-13T14:17:52.225938Z",
     "shell.execute_reply": "2023-02-13T14:17:52.224734Z",
     "shell.execute_reply.started": "2023-02-13T14:17:51.811874Z"
    }
   },
   "outputs": [
    {
     "name": "stdout",
     "output_type": "stream",
     "text": [
      "Original label 6n6gg.png\n",
      "Example of lable encoded [ 5 15  5 13 13]\n",
      "Number of classes 19\n"
     ]
    }
   ],
   "source": [
    "from sklearn.preprocessing import LabelEncoder\n",
    "\n",
    "encoder = LabelEncoder()\n",
    "encoder.fit(labels_all)\n",
    "\n",
    "labels_enc = [encoder.transform(x) for x in labels]\n",
    "labels_enc = np.array(labels_enc) + 1\n",
    "print('Original label', image_names_lst[0])\n",
    "print('Example of lable encoded', labels_enc[0])\n",
    "print('Number of classes', len(encoder.classes_))"
   ]
  },
  {
   "cell_type": "markdown",
   "metadata": {},
   "source": [
    "Оказалось, что символ n встречается примерно в 2 раза чаще, чем остальные лейблы"
   ]
  },
  {
   "cell_type": "code",
   "execution_count": 11,
   "metadata": {
    "execution": {
     "iopub.execute_input": "2023-02-13T14:17:53.065827Z",
     "iopub.status.busy": "2023-02-13T14:17:53.065472Z",
     "iopub.status.idle": "2023-02-13T14:17:53.075702Z",
     "shell.execute_reply": "2023-02-13T14:17:53.073542Z",
     "shell.execute_reply.started": "2023-02-13T14:17:53.065797Z"
    }
   },
   "outputs": [
    {
     "name": "stdout",
     "output_type": "stream",
     "text": [
      "Наиболее встречающиеся символы и их количество в датасете: [('n', 498), ('4', 269), ('5', 269)]\n"
     ]
    }
   ],
   "source": [
    "labels_dict = {}\n",
    "for lbl in labels_all:\n",
    "    cnt = labels_dict.get(lbl, 0) + 1\n",
    "    labels_dict[lbl] = cnt\n",
    "print('Наиболее встречающиеся символы и их количество в датасете:', sorted([(lbl, cnt) for (lbl, cnt) in labels_dict.items()], key=lambda x:x[1], reverse=True)[:3])"
   ]
  },
  {
   "cell_type": "markdown",
   "metadata": {},
   "source": [
    "### Разделим выборку на трейн и тест \n",
    "Разделим выборку 80:20"
   ]
  },
  {
   "cell_type": "code",
   "execution_count": 12,
   "metadata": {
    "execution": {
     "iopub.execute_input": "2023-02-13T14:17:54.357102Z",
     "iopub.status.busy": "2023-02-13T14:17:54.356720Z",
     "iopub.status.idle": "2023-02-13T14:17:54.417460Z",
     "shell.execute_reply": "2023-02-13T14:17:54.416270Z",
     "shell.execute_reply.started": "2023-02-13T14:17:54.357069Z"
    }
   },
   "outputs": [],
   "source": [
    "from sklearn.model_selection import train_test_split\n",
    "train_imgs, val_imgs, train_labels, val_labels, train_lab_orig, val_lab_orig = train_test_split(image_paths, labels_enc, labels, test_size=0.2, random_state=1234)"
   ]
  },
  {
   "cell_type": "code",
   "execution_count": 13,
   "metadata": {
    "execution": {
     "iopub.execute_input": "2023-02-13T14:17:54.777279Z",
     "iopub.status.busy": "2023-02-13T14:17:54.776930Z",
     "iopub.status.idle": "2023-02-13T14:17:54.784235Z",
     "shell.execute_reply": "2023-02-13T14:17:54.783102Z",
     "shell.execute_reply.started": "2023-02-13T14:17:54.777248Z"
    }
   },
   "outputs": [
    {
     "data": {
      "text/plain": [
       "('/kaggle/input/sample/captcha/nbf8m.png',\n",
       " array([15,  8, 12,  7, 14]),\n",
       " ['n', 'b', 'f', '8', 'm'])"
      ]
     },
     "execution_count": 13,
     "metadata": {},
     "output_type": "execute_result"
    }
   ],
   "source": [
    "# Проверим данные train\n",
    "train_imgs[0], train_labels[0], train_lab_orig[0]"
   ]
  },
  {
   "cell_type": "code",
   "execution_count": 14,
   "metadata": {
    "execution": {
     "iopub.execute_input": "2023-02-13T14:17:55.214592Z",
     "iopub.status.busy": "2023-02-13T14:17:55.214177Z",
     "iopub.status.idle": "2023-02-13T14:17:55.221861Z",
     "shell.execute_reply": "2023-02-13T14:17:55.220848Z",
     "shell.execute_reply.started": "2023-02-13T14:17:55.214558Z"
    }
   },
   "outputs": [
    {
     "data": {
      "text/plain": [
       "('/kaggle/input/sample/captcha/fbp2c.png',\n",
       " array([12,  8, 16,  1,  9]),\n",
       " ['f', 'b', 'p', '2', 'c'])"
      ]
     },
     "execution_count": 14,
     "metadata": {},
     "output_type": "execute_result"
    }
   ],
   "source": [
    "val_imgs[0], val_labels[0], val_lab_orig[0]"
   ]
  },
  {
   "cell_type": "markdown",
   "metadata": {},
   "source": [
    "### Создадим класс датасета для нашей выборки\n",
    "В качестве элемента датасета будет возвращаться пара значений - закодированный лейбл и тензор изображения, к которому уже применены трансформации.\n",
    "\n",
    "В качестве дополнительных трансформаций проводила эксперименты по добавлению аугментаций изображений, например, рандомный поворот изображения на 2-8 градусов по вертикали. Казалось, что рандомный поворот изображений поможет модели лучше распознавать символы на картинках, так на оригинальных изображениях видно, что некоторые символы на капче могут находится под наклоном. Однако данная аугментация не дала прироста к качеству. \"Слипшиеся\" символы стали еще менее различимыми при повороте, качество модели падало на 5-10%.\n",
    "\n",
    "Также казалось, что дополнительное размытие картинок может помочь модели лучше распознавать шумные символы, которые в большом количестве присутсвуют в датасете. На деле оказалось, что GaussianBlur тоже не дает какого-либо прироста к качеству, но и сильно не ухудшает распознавание модели. В итоге аугментации решено было не применять, так как их польза в моем случае была спорной."
   ]
  },
  {
   "cell_type": "code",
   "execution_count": 39,
   "metadata": {
    "execution": {
     "iopub.execute_input": "2023-02-13T14:36:15.478653Z",
     "iopub.status.busy": "2023-02-13T14:36:15.478256Z",
     "iopub.status.idle": "2023-02-13T14:36:15.487606Z",
     "shell.execute_reply": "2023-02-13T14:36:15.486505Z",
     "shell.execute_reply.started": "2023-02-13T14:36:15.478620Z"
    }
   },
   "outputs": [],
   "source": [
    "from torch.utils.data import Dataset\n",
    "class TorchDataset(Dataset):\n",
    "    def __init__(self, image_paths, labels_enc, transform_composed=None):\n",
    "        self.img_paths = image_paths\n",
    "        self.labels = labels_enc\n",
    "        self.transforms = transform_composed\n",
    "        \n",
    "    def __len__(self):\n",
    "        return len(self.img_paths)\n",
    "    \n",
    "    def __getitem__(self, idx):\n",
    "        label = self.labels[idx]\n",
    "        img_path = self.img_paths[idx]\n",
    "        img = Image.open(img_path).convert('RGB') \n",
    "        img_tensor = self.transforms(img)\n",
    "        return {\n",
    "            'image': img_tensor,\n",
    "            'label':torch.tensor(label).long()\n",
    "        } "
   ]
  },
  {
   "cell_type": "markdown",
   "metadata": {},
   "source": [
    "В качестве применяемых трансформаций изображения только приведение изображения к тензору + нормализация изображения со средним и стандартным отклонением, используемыми в датасете Imagenet."
   ]
  },
  {
   "cell_type": "code",
   "execution_count": 40,
   "metadata": {
    "execution": {
     "iopub.execute_input": "2023-02-13T14:36:16.442705Z",
     "iopub.status.busy": "2023-02-13T14:36:16.442306Z",
     "iopub.status.idle": "2023-02-13T14:36:16.450519Z",
     "shell.execute_reply": "2023-02-13T14:36:16.449500Z",
     "shell.execute_reply.started": "2023-02-13T14:36:16.442668Z"
    }
   },
   "outputs": [],
   "source": [
    "from torchvision import transforms\n",
    "transforms_comp = transforms.Compose([\n",
    "    transforms.ToTensor(),\n",
    "    transforms.Normalize(mean=[0.485, 0.456, 0.406], std=[0.229, 0.224, 0.225])\n",
    "])"
   ]
  },
  {
   "cell_type": "markdown",
   "metadata": {},
   "source": [
    "### Создадим экземпляры класса датасет и даталоадеры для итеративного процесса обучения\n",
    "Валидационный датасет перемешивать не нужно. Передаем наши базовые настройки сюда"
   ]
  },
  {
   "cell_type": "code",
   "execution_count": 41,
   "metadata": {
    "execution": {
     "iopub.execute_input": "2023-02-13T14:36:17.426010Z",
     "iopub.status.busy": "2023-02-13T14:36:17.425669Z",
     "iopub.status.idle": "2023-02-13T14:36:17.434007Z",
     "shell.execute_reply": "2023-02-13T14:36:17.431101Z",
     "shell.execute_reply.started": "2023-02-13T14:36:17.425978Z"
    }
   },
   "outputs": [],
   "source": [
    "# Creating train, val dataloaders\n",
    "import torch\n",
    "from torch.utils.data import DataLoader\n",
    "\n",
    "train_dataset = TorchDataset(train_imgs, train_labels, transform_composed=transforms_comp)\n",
    "train_dataloader = DataLoader(train_dataset, batch_size=BATCH_SIZE, num_workers=NUM_WORKERS, shuffle=True)\n",
    "\n",
    "val_dataset = TorchDataset(val_imgs, val_labels, transform_composed=transforms_comp)\n",
    "val_dataloader = DataLoader(val_dataset, batch_size=BATCH_SIZE, num_workers=NUM_WORKERS, shuffle=False) # no shuffle for val"
   ]
  },
  {
   "cell_type": "markdown",
   "metadata": {},
   "source": [
    "### Опишем класс модели и определим ее слои\n",
    "В качестве размера ядер сверток рассматривались ядра (3, 3), (4, 3), (5, 3), (6, 3), (3, 4), (3, 6).\n",
    "Модель с ядром (3, 3) обучалась хуже, чем с прямоугольными, вероятно это связано с тем, что символ или цифра на картинке обычно вытянута по одной из осей изображения. Горизонтальные ядра (3, 6) давали лучший результат обучения (более быстрое падение ошибки на трейн и тест выборках). Возможно, это связано с тем, что по горизонтали паттерны различных символов более отличимы, поэтому модель с прямоугольными вытянутыми ядрами может с большей эффективностью заучивать паттерны, характерные для различных символов.\n",
    "\n",
    "В качестве основы модели используются сверточные слои с различным числом каналов, выходной слой - линейный с числом выходов = числу классов (уникальных лейблов + blank). Также в модели присутствует слой LSTM\n",
    "В качестве функции потерь взят CTCLoss из библиотеки торч, так как в нашей задаче несегментированную последовательность данных (символы на картинке) нужно сопоставить некоторому буквенно-символьному лейблу (https://pytorch.org/docs/1.8.0/_modules/torch/nn/modules/loss.html#CTCLoss), где blank - лейбл, соответствующий пустому лейблу."
   ]
  },
  {
   "cell_type": "code",
   "execution_count": 42,
   "metadata": {
    "execution": {
     "iopub.execute_input": "2023-02-13T14:36:18.419028Z",
     "iopub.status.busy": "2023-02-13T14:36:18.418675Z",
     "iopub.status.idle": "2023-02-13T14:36:18.432528Z",
     "shell.execute_reply": "2023-02-13T14:36:18.431234Z",
     "shell.execute_reply.started": "2023-02-13T14:36:18.418996Z"
    }
   },
   "outputs": [],
   "source": [
    "from torch import nn\n",
    "from torch.nn import functional as F\n",
    "\n",
    "class CaptchaModel(nn.Module):\n",
    "    def __init__(self, num_classes):\n",
    "        super(CaptchaModel, self).__init__()\n",
    "        self.conv_1 = nn.Conv2d(3, 256, kernel_size=(3, 6), padding=(1, 1))\n",
    "        self.pool_1 = nn.MaxPool2d(kernel_size=(2, 2))\n",
    "        self.drop_0 = nn.Dropout(0.2)\n",
    "        self.conv_2 = nn.Conv2d(256, 64, kernel_size=(3, 6), padding=(1, 1))\n",
    "        self.pool_2 = nn.MaxPool2d(kernel_size=(2, 2))\n",
    "        self.linear_1 = nn.Linear(768, 64)\n",
    "        self.drop_1 = nn.Dropout(0.2)\n",
    "        self.lstm = nn.LSTM(64, 32, bidirectional=True, num_layers=1, dropout=0.25, batch_first=True)  \n",
    "        self.output = nn.Linear(64, num_classes + 1)\n",
    "\n",
    "    def forward(self, images, labels=None):\n",
    "        batch = images.size()[0]\n",
    "        x = F.relu(self.conv_1(images))\n",
    "        x = self.pool_1(x)\n",
    "        x = F.relu(self.conv_2(x))\n",
    "        x = self.drop_0(x)\n",
    "\n",
    "        x = self.pool_2(x)\n",
    "        x = x.permute(0, 3, 1, 2)\n",
    "        x = x.view(batch, x.size(1), -1)\n",
    "\n",
    "        x = F.relu(self.linear_1(x))\n",
    "        x = self.drop_1(x)\n",
    "        x, _ = self.lstm(x)\n",
    "        x = self.output(x)\n",
    "        x = x.permute(1, 0, 2)\n",
    "\n",
    "        if labels is not None:\n",
    "            log_probs = F.log_softmax(x, 2)\n",
    "            in_lengths = torch.full(size=(batch,), fill_value=log_probs.size(0), dtype=torch.int32)\n",
    "            lbl_lengths = torch.full(size=(batch,), fill_value=labels.size(1), dtype=torch.int32)\n",
    "            loss = nn.CTCLoss(blank=0)(log_probs, labels, in_lengths, lbl_lengths)\n",
    "            return x, loss\n",
    "        return x, None"
   ]
  },
  {
   "cell_type": "code",
   "execution_count": 43,
   "metadata": {
    "execution": {
     "iopub.execute_input": "2023-02-13T14:36:20.357010Z",
     "iopub.status.busy": "2023-02-13T14:36:20.356625Z",
     "iopub.status.idle": "2023-02-13T14:36:20.362118Z",
     "shell.execute_reply": "2023-02-13T14:36:20.360961Z",
     "shell.execute_reply.started": "2023-02-13T14:36:20.356976Z"
    }
   },
   "outputs": [],
   "source": [
    "from tqdm import tqdm"
   ]
  },
  {
   "cell_type": "markdown",
   "metadata": {},
   "source": [
    "### Напишем функцию обучения одной эпохи, валидации\n",
    "В цикле обучения будем итерироваться по числу эпох (EPOCHS), обучать модель и следить за качеством предсказания модели - считать ошибку CER предсказанных лейблов"
   ]
  },
  {
   "cell_type": "code",
   "execution_count": 44,
   "metadata": {
    "execution": {
     "iopub.execute_input": "2023-02-13T14:36:21.521252Z",
     "iopub.status.busy": "2023-02-13T14:36:21.520872Z",
     "iopub.status.idle": "2023-02-13T14:36:21.530782Z",
     "shell.execute_reply": "2023-02-13T14:36:21.529646Z",
     "shell.execute_reply.started": "2023-02-13T14:36:21.521198Z"
    }
   },
   "outputs": [],
   "source": [
    "def train_one_epoch(model, train_dataloader, optimizer):\n",
    "    train_losses = 0\n",
    "    model.train()\n",
    "    for data in tqdm(train_dataloader):\n",
    "        imgs, labels = data['image'], data['label']\n",
    "        imgs, labels =  imgs.to(DEVICE), labels.to(DEVICE)\n",
    "        optimizer.zero_grad()\n",
    "        y_pred, loss = model(imgs, labels)\n",
    "        train_losses += loss.item()\n",
    "        loss.backward()\n",
    "        optimizer.step()\n",
    "    train_epoch_loss = train_losses / len(train_dataloader) # ошибка на всей выборке\n",
    "    return y_pred, train_epoch_loss\n",
    "\n",
    "def predict(model, val_dataloader):\n",
    "    pred_losses = 0\n",
    "    losses, all_preds = [], []\n",
    "    model.eval()\n",
    "    with torch.no_grad():\n",
    "        for data in tqdm(val_dataloader):\n",
    "            imgs, labels = data['image'], data['label']\n",
    "            imgs, labels =  imgs.to(DEVICE), labels.to(DEVICE)\n",
    "            y_pred, loss = model(imgs, labels)\n",
    "            pred_losses += loss.item()\n",
    "            all_preds.append(y_pred)\n",
    "    val_epoch_loss = pred_losses / len(val_dataloader)\n",
    "    return all_preds, val_epoch_loss"
   ]
  },
  {
   "cell_type": "markdown",
   "metadata": {},
   "source": [
    "### Для декодирования предсказанной последовательности напишем функцию-декодеровщик\n",
    "Данная функция получает батч с предсказанными последовательностями на вход, сравнивает вероятности появления всех лейблов в качестве следующего символа в каждый момент времени и возвращает декодированную последовательность наиболее вероятных символов для всего батча. \n",
    "\n",
    "Так как ошибка CER в том числе учитывает число символов, которые надо удалить из предсказанного лейбла, сначала ограничения на длину предсказанного лейбла не было. В таком случае ошибка CER была немного выше, чем в случае, когда в коде декодеровщика проверяется длина последовательности. \n",
    "\n",
    "Возможно, декодеровщик реализован не совсем верно, так как возникали проблемы с анализом последовательных символов различных лейблов. Однако, при большом числе эпох обучения данная настройка декодеровщика не влияет на результат, модель хорошо обучается "
   ]
  },
  {
   "cell_type": "code",
   "execution_count": 45,
   "metadata": {
    "execution": {
     "iopub.execute_input": "2023-02-13T14:36:23.138733Z",
     "iopub.status.busy": "2023-02-13T14:36:23.138377Z",
     "iopub.status.idle": "2023-02-13T14:36:23.149810Z",
     "shell.execute_reply": "2023-02-13T14:36:23.148847Z",
     "shell.execute_reply.started": "2023-02-13T14:36:23.138704Z"
    }
   },
   "outputs": [],
   "source": [
    "# Измененный декодеровщик после учтения ошибок первого типа (последовательность длиннее 5 символов)\n",
    "def my_predictions_decoder_new(preds, encoder):\n",
    "    preds = preds.permute(1, 0, 2)\n",
    "    preds, probs = torch.argmax(torch.softmax(preds, 2), 2), torch.max(torch.softmax(preds, 2), 2).values\n",
    "    lbls = []\n",
    "    for line, line_probs in zip(preds, probs):\n",
    "        seq, ans = [], []\n",
    "        idx = -1\n",
    "        for el, proba in zip(line, line_probs):\n",
    "            idx += 1\n",
    "            if el == 0 or idx == len(line) - 1:\n",
    "                if seq:\n",
    "                    new_el, proba = sorted(seq, key=lambda x: x[1], reverse=True)[0]\n",
    "                    ans.append((str(new_el), proba))\n",
    "                seq = []\n",
    "                continue\n",
    "            elif el != 0:\n",
    "                seq.append((el.cpu().numpy(), proba.cpu().detach().numpy()))\n",
    "        if len(ans) > 5:\n",
    "            ans = [el[0] for el in ans if el in sorted(ans, key=lambda x: x[1], reverse=True)[:5]]\n",
    "        else:\n",
    "            ans = [el[0] for el in ans]\n",
    "        ans = [encoder.inverse_transform([int(i) - 1])[0] for i in ans[:]]\n",
    "        lbls.append(''.join(ans))\n",
    "    return lbls"
   ]
  },
  {
   "cell_type": "markdown",
   "metadata": {},
   "source": [
    "### Обучим модель в цикле и замерим метрику CER из библиотеки torchmetrics на каждой эпохе. \n",
    "В конце сделаем предсказание уже обученной моделью и посмотрим на лейблы, которые неверно угадываются моделью"
   ]
  },
  {
   "cell_type": "markdown",
   "metadata": {},
   "source": [
    "### Модель не всегда успешно обучается, зафиксировать результат зерном все же не получилось\n",
    "Иногда приходится много раз перезапускать код создания и обучения модели"
   ]
  },
  {
   "cell_type": "code",
   "execution_count": 46,
   "metadata": {
    "execution": {
     "iopub.execute_input": "2023-02-13T14:36:26.564286Z",
     "iopub.status.busy": "2023-02-13T14:36:26.563897Z",
     "iopub.status.idle": "2023-02-13T14:36:26.581401Z",
     "shell.execute_reply": "2023-02-13T14:36:26.580385Z",
     "shell.execute_reply.started": "2023-02-13T14:36:26.564250Z"
    }
   },
   "outputs": [
    {
     "data": {
      "text/plain": [
       "<bound method Module.parameters of CaptchaModel(\n",
       "  (conv_1): Conv2d(3, 256, kernel_size=(3, 6), stride=(1, 1), padding=(1, 1))\n",
       "  (pool_1): MaxPool2d(kernel_size=(2, 2), stride=(2, 2), padding=0, dilation=1, ceil_mode=False)\n",
       "  (drop_0): Dropout(p=0.2, inplace=False)\n",
       "  (conv_2): Conv2d(256, 64, kernel_size=(3, 6), stride=(1, 1), padding=(1, 1))\n",
       "  (pool_2): MaxPool2d(kernel_size=(2, 2), stride=(2, 2), padding=0, dilation=1, ceil_mode=False)\n",
       "  (linear_1): Linear(in_features=768, out_features=64, bias=True)\n",
       "  (drop_1): Dropout(p=0.2, inplace=False)\n",
       "  (lstm): LSTM(64, 32, batch_first=True, dropout=0.25, bidirectional=True)\n",
       "  (output): Linear(in_features=64, out_features=20, bias=True)\n",
       ")>"
      ]
     },
     "execution_count": 46,
     "metadata": {},
     "output_type": "execute_result"
    }
   ],
   "source": [
    "import torchmetrics\n",
    "import random\n",
    "\n",
    "# SEED = 1337\n",
    "# random.seed(SEED)\n",
    "# np.random.seed(SEED)\n",
    "# torch.manual_seed(SEED)\n",
    "# torch.backends.cudnn.deterministic = True\n",
    "\n",
    "valid_labels = [''.join(lbl) for lbl in val_lab_orig]\n",
    "model = CaptchaModel(len(encoder.classes_))\n",
    "optimizer = torch.optim.Adam(model.parameters(), lr=3e-3)\n",
    "scheduler = torch.optim.lr_scheduler.ReduceLROnPlateau(optimizer, factor=0.7, patience=5, verbose=True)\n",
    "from sklearn.metrics import accuracy_score\n",
    "model.parameters"
   ]
  },
  {
   "cell_type": "code",
   "execution_count": 66,
   "metadata": {
    "execution": {
     "iopub.execute_input": "2023-02-12T23:50:07.381690Z",
     "iopub.status.busy": "2023-02-12T23:50:07.381298Z",
     "iopub.status.idle": "2023-02-13T00:00:36.236988Z",
     "shell.execute_reply": "2023-02-13T00:00:36.235695Z",
     "shell.execute_reply.started": "2023-02-12T23:50:07.381644Z"
    }
   },
   "outputs": [
    {
     "name": "stderr",
     "output_type": "stream",
     "text": [
      "100%|██████████| 100/100 [00:02<00:00, 44.41it/s]\n",
      "100%|██████████| 25/25 [00:00<00:00, 52.31it/s]\n"
     ]
    },
    {
     "name": "stdout",
     "output_type": "stream",
     "text": [
      "Epoch: 0, train_loss=4.332673442363739, valid_loss=3.295055961608887  cer_new 1.0 lr=0.003\n"
     ]
    },
    {
     "name": "stderr",
     "output_type": "stream",
     "text": [
      "100%|██████████| 100/100 [00:02<00:00, 42.06it/s]\n",
      "100%|██████████| 25/25 [00:00<00:00, 49.90it/s]\n"
     ]
    },
    {
     "name": "stdout",
     "output_type": "stream",
     "text": [
      "Epoch: 1, train_loss=3.275475206375122, valid_loss=3.2837648487091062  cer_new 1.0 lr=0.003\n"
     ]
    },
    {
     "name": "stderr",
     "output_type": "stream",
     "text": [
      "100%|██████████| 100/100 [00:02<00:00, 46.46it/s]\n",
      "100%|██████████| 25/25 [00:00<00:00, 54.87it/s]\n"
     ]
    },
    {
     "name": "stdout",
     "output_type": "stream",
     "text": [
      "Epoch: 2, train_loss=3.2750444841384887, valid_loss=3.285109033584595  cer_new 1.0 lr=0.003\n"
     ]
    },
    {
     "name": "stderr",
     "output_type": "stream",
     "text": [
      "100%|██████████| 100/100 [00:02<00:00, 46.20it/s]\n",
      "100%|██████████| 25/25 [00:00<00:00, 50.03it/s]\n"
     ]
    },
    {
     "name": "stdout",
     "output_type": "stream",
     "text": [
      "Epoch: 3, train_loss=3.2739386916160584, valid_loss=3.2950975608825686  cer_new 1.0 lr=0.003\n"
     ]
    },
    {
     "name": "stderr",
     "output_type": "stream",
     "text": [
      "100%|██████████| 100/100 [00:02<00:00, 45.38it/s]\n",
      "100%|██████████| 25/25 [00:00<00:00, 51.36it/s]\n"
     ]
    },
    {
     "name": "stdout",
     "output_type": "stream",
     "text": [
      "Epoch: 4, train_loss=3.2751267099380494, valid_loss=3.2892534255981447  cer_new 1.0 lr=0.003\n"
     ]
    },
    {
     "name": "stderr",
     "output_type": "stream",
     "text": [
      "100%|██████████| 100/100 [00:02<00:00, 43.17it/s]\n",
      "100%|██████████| 25/25 [00:00<00:00, 52.65it/s]\n"
     ]
    },
    {
     "name": "stdout",
     "output_type": "stream",
     "text": [
      "Epoch: 5, train_loss=3.2751596212387084, valid_loss=3.2878069400787355  cer_new 1.0 lr=0.003\n"
     ]
    },
    {
     "name": "stderr",
     "output_type": "stream",
     "text": [
      "100%|██████████| 100/100 [00:02<00:00, 45.64it/s]\n",
      "100%|██████████| 25/25 [00:00<00:00, 51.93it/s]\n"
     ]
    },
    {
     "name": "stdout",
     "output_type": "stream",
     "text": [
      "Epoch: 6, train_loss=3.2729609608650208, valid_loss=3.2881462669372556  cer_new 1.0 lr=0.003\n"
     ]
    },
    {
     "name": "stderr",
     "output_type": "stream",
     "text": [
      "100%|██████████| 100/100 [00:02<00:00, 38.90it/s]\n",
      "100%|██████████| 25/25 [00:00<00:00, 52.72it/s]\n"
     ]
    },
    {
     "name": "stdout",
     "output_type": "stream",
     "text": [
      "Epoch: 7, train_loss=3.277965958118439, valid_loss=3.305683832168579  cer_new 1.0 lr=0.003\n",
      "Epoch 00008: reducing learning rate of group 0 to 2.1000e-03.\n"
     ]
    },
    {
     "name": "stderr",
     "output_type": "stream",
     "text": [
      "100%|██████████| 100/100 [00:02<00:00, 42.62it/s]\n",
      "100%|██████████| 25/25 [00:00<00:00, 48.72it/s]\n"
     ]
    },
    {
     "name": "stdout",
     "output_type": "stream",
     "text": [
      "Epoch: 8, train_loss=3.2709388184547423, valid_loss=3.2862441539764404  cer_new 1.0 lr=0.0021\n"
     ]
    },
    {
     "name": "stderr",
     "output_type": "stream",
     "text": [
      "100%|██████████| 100/100 [00:02<00:00, 45.33it/s]\n",
      "100%|██████████| 25/25 [00:00<00:00, 52.00it/s]\n"
     ]
    },
    {
     "name": "stdout",
     "output_type": "stream",
     "text": [
      "Epoch: 9, train_loss=3.272306261062622, valid_loss=3.2901480865478514  cer_new 1.0 lr=0.0021\n"
     ]
    },
    {
     "name": "stderr",
     "output_type": "stream",
     "text": [
      "100%|██████████| 100/100 [00:02<00:00, 44.96it/s]\n",
      "100%|██████████| 25/25 [00:00<00:00, 52.51it/s]\n"
     ]
    },
    {
     "name": "stdout",
     "output_type": "stream",
     "text": [
      "Epoch: 10, train_loss=3.2718869924545286, valid_loss=3.286666841506958  cer_new 1.0 lr=0.0021\n"
     ]
    },
    {
     "name": "stderr",
     "output_type": "stream",
     "text": [
      "100%|██████████| 100/100 [00:02<00:00, 45.57it/s]\n",
      "100%|██████████| 25/25 [00:00<00:00, 50.33it/s]\n"
     ]
    },
    {
     "name": "stdout",
     "output_type": "stream",
     "text": [
      "Epoch: 11, train_loss=3.2715944051742554, valid_loss=3.2840001678466795  cer_new 1.0 lr=0.0021\n"
     ]
    },
    {
     "name": "stderr",
     "output_type": "stream",
     "text": [
      "100%|██████████| 100/100 [00:02<00:00, 42.43it/s]\n",
      "100%|██████████| 25/25 [00:00<00:00, 50.63it/s]\n"
     ]
    },
    {
     "name": "stdout",
     "output_type": "stream",
     "text": [
      "Epoch: 12, train_loss=3.2725415515899656, valid_loss=3.279055881500244  cer_new 1.0 lr=0.0021\n"
     ]
    },
    {
     "name": "stderr",
     "output_type": "stream",
     "text": [
      "100%|██████████| 100/100 [00:02<00:00, 45.73it/s]\n",
      "100%|██████████| 25/25 [00:00<00:00, 52.64it/s]\n"
     ]
    },
    {
     "name": "stdout",
     "output_type": "stream",
     "text": [
      "Epoch: 13, train_loss=3.2685064840316773, valid_loss=3.2916158294677733  cer_new 1.0 lr=0.0021\n"
     ]
    },
    {
     "name": "stderr",
     "output_type": "stream",
     "text": [
      "100%|██████████| 100/100 [00:02<00:00, 45.97it/s]\n",
      "100%|██████████| 25/25 [00:00<00:00, 53.14it/s]\n"
     ]
    },
    {
     "name": "stdout",
     "output_type": "stream",
     "text": [
      "Epoch: 14, train_loss=3.2700522994995116, valid_loss=3.290837497711182  cer_new 1.0 lr=0.0021\n"
     ]
    },
    {
     "name": "stderr",
     "output_type": "stream",
     "text": [
      "100%|██████████| 100/100 [00:02<00:00, 45.83it/s]\n",
      "100%|██████████| 25/25 [00:00<00:00, 48.07it/s]\n"
     ]
    },
    {
     "name": "stdout",
     "output_type": "stream",
     "text": [
      "Epoch: 15, train_loss=3.2682425737380982, valid_loss=3.285925178527832  cer_new 1.0 lr=0.0021\n"
     ]
    },
    {
     "name": "stderr",
     "output_type": "stream",
     "text": [
      "100%|██████████| 100/100 [00:02<00:00, 43.36it/s]\n",
      "100%|██████████| 25/25 [00:00<00:00, 50.62it/s]\n"
     ]
    },
    {
     "name": "stdout",
     "output_type": "stream",
     "text": [
      "Epoch: 16, train_loss=3.272639629840851, valid_loss=3.2863512420654297  cer_new 1.0 lr=0.0021\n"
     ]
    },
    {
     "name": "stderr",
     "output_type": "stream",
     "text": [
      "100%|██████████| 100/100 [00:02<00:00, 40.16it/s]\n",
      "100%|██████████| 25/25 [00:00<00:00, 45.51it/s]\n"
     ]
    },
    {
     "name": "stdout",
     "output_type": "stream",
     "text": [
      "Epoch: 17, train_loss=3.273451020717621, valid_loss=3.28944766998291  cer_new 1.0 lr=0.0021\n"
     ]
    },
    {
     "name": "stderr",
     "output_type": "stream",
     "text": [
      "100%|██████████| 100/100 [00:02<00:00, 45.50it/s]\n",
      "100%|██████████| 25/25 [00:00<00:00, 51.16it/s]\n"
     ]
    },
    {
     "name": "stdout",
     "output_type": "stream",
     "text": [
      "Epoch: 18, train_loss=3.2702692484855653, valid_loss=3.2749532890319824  cer_new 1.0 lr=0.0021\n"
     ]
    },
    {
     "name": "stderr",
     "output_type": "stream",
     "text": [
      "100%|██████████| 100/100 [00:02<00:00, 44.10it/s]\n",
      "100%|██████████| 25/25 [00:00<00:00, 42.39it/s]\n"
     ]
    },
    {
     "name": "stdout",
     "output_type": "stream",
     "text": [
      "Epoch: 19, train_loss=3.269682538509369, valid_loss=3.3742773723602295  cer_new 1.0 lr=0.0021\n"
     ]
    },
    {
     "name": "stderr",
     "output_type": "stream",
     "text": [
      "100%|██████████| 100/100 [00:02<00:00, 45.88it/s]\n",
      "100%|██████████| 25/25 [00:00<00:00, 50.80it/s]\n"
     ]
    },
    {
     "name": "stdout",
     "output_type": "stream",
     "text": [
      "Epoch: 20, train_loss=3.2670796251297, valid_loss=3.2709652519226076  cer_new 1.0 lr=0.0021\n"
     ]
    },
    {
     "name": "stderr",
     "output_type": "stream",
     "text": [
      "100%|██████████| 100/100 [00:02<00:00, 46.07it/s]\n",
      "100%|██████████| 25/25 [00:00<00:00, 52.59it/s]\n"
     ]
    },
    {
     "name": "stdout",
     "output_type": "stream",
     "text": [
      "Epoch: 21, train_loss=3.2617963314056397, valid_loss=3.26365180015564  cer_new 1.0 lr=0.0021\n"
     ]
    },
    {
     "name": "stderr",
     "output_type": "stream",
     "text": [
      "100%|██████████| 100/100 [00:02<00:00, 46.89it/s]\n",
      "100%|██████████| 25/25 [00:00<00:00, 49.89it/s]\n"
     ]
    },
    {
     "name": "stdout",
     "output_type": "stream",
     "text": [
      "Epoch: 22, train_loss=3.2484197354316713, valid_loss=3.230804834365845  cer_new 1.0 lr=0.0021\n"
     ]
    },
    {
     "name": "stderr",
     "output_type": "stream",
     "text": [
      "100%|██████████| 100/100 [00:02<00:00, 43.01it/s]\n",
      "100%|██████████| 25/25 [00:00<00:00, 52.48it/s]\n"
     ]
    },
    {
     "name": "stdout",
     "output_type": "stream",
     "text": [
      "Epoch: 23, train_loss=3.1389822721481324, valid_loss=3.017411890029907  cer_new 1.0 lr=0.0021\n"
     ]
    },
    {
     "name": "stderr",
     "output_type": "stream",
     "text": [
      "100%|██████████| 100/100 [00:02<00:00, 46.02it/s]\n",
      "100%|██████████| 25/25 [00:00<00:00, 53.30it/s]\n"
     ]
    },
    {
     "name": "stdout",
     "output_type": "stream",
     "text": [
      "Epoch: 24, train_loss=2.8242685294151304, valid_loss=2.391942081451416  cer_new 0.9710000157356262 lr=0.0021\n"
     ]
    },
    {
     "name": "stderr",
     "output_type": "stream",
     "text": [
      "100%|██████████| 100/100 [00:02<00:00, 46.46it/s]\n",
      "100%|██████████| 25/25 [00:00<00:00, 55.04it/s]\n"
     ]
    },
    {
     "name": "stdout",
     "output_type": "stream",
     "text": [
      "Epoch: 25, train_loss=2.124413951635361, valid_loss=1.6411799430847167  cer_new 0.718999981880188 lr=0.0021\n"
     ]
    },
    {
     "name": "stderr",
     "output_type": "stream",
     "text": [
      "100%|██████████| 100/100 [00:02<00:00, 46.49it/s]\n",
      "100%|██████████| 25/25 [00:00<00:00, 51.84it/s]\n"
     ]
    },
    {
     "name": "stdout",
     "output_type": "stream",
     "text": [
      "Epoch: 26, train_loss=1.5924462723731994, valid_loss=1.098911340236664  cer_new 0.39899998903274536 lr=0.0021\n"
     ]
    },
    {
     "name": "stderr",
     "output_type": "stream",
     "text": [
      "100%|██████████| 100/100 [00:02<00:00, 43.04it/s]\n",
      "100%|██████████| 25/25 [00:00<00:00, 53.72it/s]\n"
     ]
    },
    {
     "name": "stdout",
     "output_type": "stream",
     "text": [
      "Epoch: 27, train_loss=1.2371296364068984, valid_loss=0.8418741393089294  cer_new 0.3179999887943268 lr=0.0021\n"
     ]
    },
    {
     "name": "stderr",
     "output_type": "stream",
     "text": [
      "100%|██████████| 100/100 [00:02<00:00, 40.37it/s]\n",
      "100%|██████████| 25/25 [00:00<00:00, 53.44it/s]\n"
     ]
    },
    {
     "name": "stdout",
     "output_type": "stream",
     "text": [
      "Epoch: 28, train_loss=1.0709688150882721, valid_loss=0.7052778029441833  cer_new 0.210999995470047 lr=0.0021\n"
     ]
    },
    {
     "name": "stderr",
     "output_type": "stream",
     "text": [
      "100%|██████████| 100/100 [00:02<00:00, 46.68it/s]\n",
      "100%|██████████| 25/25 [00:00<00:00, 54.56it/s]\n"
     ]
    },
    {
     "name": "stdout",
     "output_type": "stream",
     "text": [
      "Epoch: 29, train_loss=0.9054816681146621, valid_loss=0.6221650087833405  cer_new 0.17399999499320984 lr=0.0021\n"
     ]
    },
    {
     "name": "stderr",
     "output_type": "stream",
     "text": [
      "100%|██████████| 100/100 [00:02<00:00, 43.68it/s]\n",
      "100%|██████████| 25/25 [00:00<00:00, 44.01it/s]\n"
     ]
    },
    {
     "name": "stdout",
     "output_type": "stream",
     "text": [
      "Epoch: 30, train_loss=0.8730818963050843, valid_loss=0.6361702108383178  cer_new 0.20800000429153442 lr=0.0021\n"
     ]
    },
    {
     "name": "stderr",
     "output_type": "stream",
     "text": [
      "100%|██████████| 100/100 [00:02<00:00, 46.33it/s]\n",
      "100%|██████████| 25/25 [00:00<00:00, 52.66it/s]\n"
     ]
    },
    {
     "name": "stdout",
     "output_type": "stream",
     "text": [
      "Epoch: 31, train_loss=0.8265134429931641, valid_loss=0.5137943923473358  cer_new 0.14100000262260437 lr=0.0021\n"
     ]
    },
    {
     "name": "stderr",
     "output_type": "stream",
     "text": [
      "100%|██████████| 100/100 [00:02<00:00, 46.53it/s]\n",
      "100%|██████████| 25/25 [00:00<00:00, 51.95it/s]\n"
     ]
    },
    {
     "name": "stdout",
     "output_type": "stream",
     "text": [
      "Epoch: 32, train_loss=0.6999279025197029, valid_loss=0.3877961218357086  cer_new 0.12800000607967377 lr=0.0021\n"
     ]
    },
    {
     "name": "stderr",
     "output_type": "stream",
     "text": [
      "100%|██████████| 100/100 [00:02<00:00, 46.01it/s]\n",
      "100%|██████████| 25/25 [00:00<00:00, 52.23it/s]\n"
     ]
    },
    {
     "name": "stdout",
     "output_type": "stream",
     "text": [
      "Epoch: 33, train_loss=0.6168646413087845, valid_loss=0.36860447585582734  cer_new 0.10499999672174454 lr=0.0021\n"
     ]
    },
    {
     "name": "stderr",
     "output_type": "stream",
     "text": [
      "100%|██████████| 100/100 [00:02<00:00, 43.11it/s]\n",
      "100%|██████████| 25/25 [00:00<00:00, 52.48it/s]\n"
     ]
    },
    {
     "name": "stdout",
     "output_type": "stream",
     "text": [
      "Epoch: 34, train_loss=0.5713362365961074, valid_loss=0.39808777153491975  cer_new 0.12600000202655792 lr=0.0021\n"
     ]
    },
    {
     "name": "stderr",
     "output_type": "stream",
     "text": [
      "100%|██████████| 100/100 [00:02<00:00, 46.53it/s]\n",
      "100%|██████████| 25/25 [00:00<00:00, 53.05it/s]\n"
     ]
    },
    {
     "name": "stdout",
     "output_type": "stream",
     "text": [
      "Epoch: 35, train_loss=0.5972597515583038, valid_loss=0.34946564853191375  cer_new 0.11100000143051147 lr=0.0021\n"
     ]
    },
    {
     "name": "stderr",
     "output_type": "stream",
     "text": [
      "100%|██████████| 100/100 [00:02<00:00, 46.13it/s]\n",
      "100%|██████████| 25/25 [00:00<00:00, 53.62it/s]\n"
     ]
    },
    {
     "name": "stdout",
     "output_type": "stream",
     "text": [
      "Epoch: 36, train_loss=0.5207012850046158, valid_loss=0.28761468768119813  cer_new 0.07000000029802322 lr=0.0021\n"
     ]
    },
    {
     "name": "stderr",
     "output_type": "stream",
     "text": [
      "100%|██████████| 100/100 [00:02<00:00, 45.28it/s]\n",
      "100%|██████████| 25/25 [00:00<00:00, 37.56it/s]\n"
     ]
    },
    {
     "name": "stdout",
     "output_type": "stream",
     "text": [
      "Epoch: 37, train_loss=0.49448456823825837, valid_loss=0.32304370880126954  cer_new 0.08500000089406967 lr=0.0021\n"
     ]
    },
    {
     "name": "stderr",
     "output_type": "stream",
     "text": [
      "100%|██████████| 100/100 [00:02<00:00, 40.60it/s]\n",
      "100%|██████████| 25/25 [00:00<00:00, 51.45it/s]\n"
     ]
    },
    {
     "name": "stdout",
     "output_type": "stream",
     "text": [
      "Epoch: 38, train_loss=0.5012737980484963, valid_loss=0.3173135343194008  cer_new 0.10000000149011612 lr=0.0021\n"
     ]
    },
    {
     "name": "stderr",
     "output_type": "stream",
     "text": [
      "100%|██████████| 100/100 [00:02<00:00, 46.56it/s]\n",
      "100%|██████████| 25/25 [00:00<00:00, 53.59it/s]\n"
     ]
    },
    {
     "name": "stdout",
     "output_type": "stream",
     "text": [
      "Epoch: 39, train_loss=0.4302197442948818, valid_loss=0.23484033197164536  cer_new 0.05900000035762787 lr=0.0021\n"
     ]
    },
    {
     "name": "stderr",
     "output_type": "stream",
     "text": [
      "100%|██████████| 100/100 [00:02<00:00, 45.91it/s]\n",
      "100%|██████████| 25/25 [00:00<00:00, 46.12it/s]\n"
     ]
    },
    {
     "name": "stdout",
     "output_type": "stream",
     "text": [
      "Epoch: 40, train_loss=0.4701661488413811, valid_loss=0.3255392026901245  cer_new 0.11500000208616257 lr=0.0021\n"
     ]
    },
    {
     "name": "stderr",
     "output_type": "stream",
     "text": [
      "100%|██████████| 100/100 [00:02<00:00, 42.64it/s]\n",
      "100%|██████████| 25/25 [00:00<00:00, 50.83it/s]\n"
     ]
    },
    {
     "name": "stdout",
     "output_type": "stream",
     "text": [
      "Epoch: 41, train_loss=0.47810086905956267, valid_loss=0.22692734241485596  cer_new 0.06599999964237213 lr=0.0021\n"
     ]
    },
    {
     "name": "stderr",
     "output_type": "stream",
     "text": [
      "100%|██████████| 100/100 [00:02<00:00, 46.14it/s]\n",
      "100%|██████████| 25/25 [00:00<00:00, 53.91it/s]\n"
     ]
    },
    {
     "name": "stdout",
     "output_type": "stream",
     "text": [
      "Epoch: 42, train_loss=0.4173152430355549, valid_loss=0.26996340095996857  cer_new 0.05700000002980232 lr=0.0021\n"
     ]
    },
    {
     "name": "stderr",
     "output_type": "stream",
     "text": [
      "100%|██████████| 100/100 [00:02<00:00, 45.41it/s]\n",
      "100%|██████████| 25/25 [00:00<00:00, 50.85it/s]\n"
     ]
    },
    {
     "name": "stdout",
     "output_type": "stream",
     "text": [
      "Epoch: 43, train_loss=0.38880986407399176, valid_loss=0.2305808785557747  cer_new 0.06499999761581421 lr=0.0021\n"
     ]
    },
    {
     "name": "stderr",
     "output_type": "stream",
     "text": [
      "100%|██████████| 100/100 [00:02<00:00, 43.78it/s]\n",
      "100%|██████████| 25/25 [00:00<00:00, 46.27it/s]\n"
     ]
    },
    {
     "name": "stdout",
     "output_type": "stream",
     "text": [
      "Epoch: 44, train_loss=0.37203852355480194, valid_loss=0.20956992447376252  cer_new 0.07699999958276749 lr=0.0021\n"
     ]
    },
    {
     "name": "stderr",
     "output_type": "stream",
     "text": [
      "100%|██████████| 100/100 [00:02<00:00, 45.77it/s]\n",
      "100%|██████████| 25/25 [00:00<00:00, 53.90it/s]\n"
     ]
    },
    {
     "name": "stdout",
     "output_type": "stream",
     "text": [
      "Epoch: 45, train_loss=0.3819971463084221, valid_loss=0.2213681870698929  cer_new 0.05999999865889549 lr=0.0021\n"
     ]
    },
    {
     "name": "stderr",
     "output_type": "stream",
     "text": [
      "100%|██████████| 100/100 [00:02<00:00, 45.97it/s]\n",
      "100%|██████████| 25/25 [00:00<00:00, 51.61it/s]\n"
     ]
    },
    {
     "name": "stdout",
     "output_type": "stream",
     "text": [
      "Epoch: 46, train_loss=0.40005576744675636, valid_loss=0.23732912600040434  cer_new 0.08399999886751175 lr=0.0021\n"
     ]
    },
    {
     "name": "stderr",
     "output_type": "stream",
     "text": [
      "100%|██████████| 100/100 [00:02<00:00, 45.95it/s]\n",
      "100%|██████████| 25/25 [00:00<00:00, 49.39it/s]\n"
     ]
    },
    {
     "name": "stdout",
     "output_type": "stream",
     "text": [
      "Epoch: 47, train_loss=0.3346305952966213, valid_loss=0.1886507326364517  cer_new 0.05299999937415123 lr=0.0021\n"
     ]
    },
    {
     "name": "stderr",
     "output_type": "stream",
     "text": [
      "100%|██████████| 100/100 [00:02<00:00, 38.00it/s]\n",
      "100%|██████████| 25/25 [00:00<00:00, 51.83it/s]\n"
     ]
    },
    {
     "name": "stdout",
     "output_type": "stream",
     "text": [
      "Epoch: 48, train_loss=0.3455639284849167, valid_loss=0.1972775164246559  cer_new 0.0560000017285347 lr=0.0021\n"
     ]
    },
    {
     "name": "stderr",
     "output_type": "stream",
     "text": [
      "100%|██████████| 100/100 [00:02<00:00, 46.42it/s]\n",
      "100%|██████████| 25/25 [00:00<00:00, 53.59it/s]\n"
     ]
    },
    {
     "name": "stdout",
     "output_type": "stream",
     "text": [
      "Epoch: 49, train_loss=0.33733714789152147, valid_loss=0.20125535935163497  cer_new 0.061000000685453415 lr=0.0021\n"
     ]
    },
    {
     "name": "stderr",
     "output_type": "stream",
     "text": [
      "100%|██████████| 100/100 [00:02<00:00, 45.99it/s]\n",
      "100%|██████████| 25/25 [00:00<00:00, 51.65it/s]\n"
     ]
    },
    {
     "name": "stdout",
     "output_type": "stream",
     "text": [
      "Epoch: 50, train_loss=0.3342754226922989, valid_loss=0.18930142343044282  cer_new 0.0560000017285347 lr=0.0021\n"
     ]
    },
    {
     "name": "stderr",
     "output_type": "stream",
     "text": [
      "100%|██████████| 100/100 [00:02<00:00, 43.00it/s]\n",
      "100%|██████████| 25/25 [00:00<00:00, 50.01it/s]\n"
     ]
    },
    {
     "name": "stdout",
     "output_type": "stream",
     "text": [
      "Epoch: 51, train_loss=0.3351611922681332, valid_loss=0.20111540645360948  cer_new 0.061000000685453415 lr=0.0021\n"
     ]
    },
    {
     "name": "stderr",
     "output_type": "stream",
     "text": [
      "100%|██████████| 100/100 [00:02<00:00, 46.09it/s]\n",
      "100%|██████████| 25/25 [00:00<00:00, 52.27it/s]\n"
     ]
    },
    {
     "name": "stdout",
     "output_type": "stream",
     "text": [
      "Epoch: 52, train_loss=0.3213131639361382, valid_loss=0.1827748343348503  cer_new 0.06700000166893005 lr=0.0021\n"
     ]
    },
    {
     "name": "stderr",
     "output_type": "stream",
     "text": [
      "100%|██████████| 100/100 [00:02<00:00, 46.33it/s]\n",
      "100%|██████████| 25/25 [00:00<00:00, 52.85it/s]\n"
     ]
    },
    {
     "name": "stdout",
     "output_type": "stream",
     "text": [
      "Epoch: 53, train_loss=0.2999547288566828, valid_loss=0.16657638400793076  cer_new 0.04800000041723251 lr=0.0021\n"
     ]
    },
    {
     "name": "stderr",
     "output_type": "stream",
     "text": [
      "100%|██████████| 100/100 [00:02<00:00, 45.99it/s]\n",
      "100%|██████████| 25/25 [00:00<00:00, 48.51it/s]\n"
     ]
    },
    {
     "name": "stdout",
     "output_type": "stream",
     "text": [
      "Epoch: 54, train_loss=0.30077830612659456, valid_loss=0.21590581625699998  cer_new 0.06300000101327896 lr=0.0021\n"
     ]
    },
    {
     "name": "stderr",
     "output_type": "stream",
     "text": [
      "100%|██████████| 100/100 [00:02<00:00, 43.20it/s]\n",
      "100%|██████████| 25/25 [00:00<00:00, 52.12it/s]\n"
     ]
    },
    {
     "name": "stdout",
     "output_type": "stream",
     "text": [
      "Epoch: 55, train_loss=0.29363358475267887, valid_loss=0.17949340611696243  cer_new 0.05900000035762787 lr=0.0021\n"
     ]
    },
    {
     "name": "stderr",
     "output_type": "stream",
     "text": [
      "100%|██████████| 100/100 [00:02<00:00, 46.11it/s]\n",
      "100%|██████████| 25/25 [00:00<00:00, 43.21it/s]\n"
     ]
    },
    {
     "name": "stdout",
     "output_type": "stream",
     "text": [
      "Epoch: 56, train_loss=0.29888136439025403, valid_loss=0.2132380086183548  cer_new 0.07599999755620956 lr=0.0021\n"
     ]
    },
    {
     "name": "stderr",
     "output_type": "stream",
     "text": [
      "100%|██████████| 100/100 [00:02<00:00, 46.18it/s]\n",
      "100%|██████████| 25/25 [00:00<00:00, 40.57it/s]\n"
     ]
    },
    {
     "name": "stdout",
     "output_type": "stream",
     "text": [
      "Epoch: 57, train_loss=0.3046260407567024, valid_loss=0.17015947222709657  cer_new 0.0430000014603138 lr=0.0021\n"
     ]
    },
    {
     "name": "stderr",
     "output_type": "stream",
     "text": [
      "100%|██████████| 100/100 [00:02<00:00, 41.20it/s]\n",
      "100%|██████████| 25/25 [00:00<00:00, 53.95it/s]\n"
     ]
    },
    {
     "name": "stdout",
     "output_type": "stream",
     "text": [
      "Epoch: 58, train_loss=0.2796551012992859, valid_loss=0.15763187438249587  cer_new 0.05400000140070915 lr=0.0021\n"
     ]
    },
    {
     "name": "stderr",
     "output_type": "stream",
     "text": [
      "100%|██████████| 100/100 [00:02<00:00, 46.01it/s]\n",
      "100%|██████████| 25/25 [00:00<00:00, 52.43it/s]\n"
     ]
    },
    {
     "name": "stdout",
     "output_type": "stream",
     "text": [
      "Epoch: 59, train_loss=0.2597827907279134, valid_loss=0.15975967213511466  cer_new 0.050999999046325684 lr=0.0021\n"
     ]
    },
    {
     "name": "stderr",
     "output_type": "stream",
     "text": [
      "100%|██████████| 100/100 [00:02<00:00, 46.30it/s]\n",
      "100%|██████████| 25/25 [00:00<00:00, 52.98it/s]\n"
     ]
    },
    {
     "name": "stdout",
     "output_type": "stream",
     "text": [
      "Epoch: 60, train_loss=0.25374987844377755, valid_loss=0.2387809172272682  cer_new 0.07900000363588333 lr=0.0021\n"
     ]
    },
    {
     "name": "stderr",
     "output_type": "stream",
     "text": [
      "100%|██████████| 100/100 [00:02<00:00, 45.78it/s]\n",
      "100%|██████████| 25/25 [00:00<00:00, 50.86it/s]\n"
     ]
    },
    {
     "name": "stdout",
     "output_type": "stream",
     "text": [
      "Epoch: 61, train_loss=0.2885170876979828, valid_loss=0.16729987725615503  cer_new 0.04399999976158142 lr=0.0021\n"
     ]
    },
    {
     "name": "stderr",
     "output_type": "stream",
     "text": [
      "100%|██████████| 100/100 [00:02<00:00, 45.74it/s]\n",
      "100%|██████████| 25/25 [00:00<00:00, 52.09it/s]\n"
     ]
    },
    {
     "name": "stdout",
     "output_type": "stream",
     "text": [
      "Epoch: 62, train_loss=0.2631244444102049, valid_loss=0.17045293420553206  cer_new 0.06300000101327896 lr=0.0021\n"
     ]
    },
    {
     "name": "stderr",
     "output_type": "stream",
     "text": [
      "100%|██████████| 100/100 [00:02<00:00, 46.44it/s]\n",
      "100%|██████████| 25/25 [00:00<00:00, 54.35it/s]\n"
     ]
    },
    {
     "name": "stdout",
     "output_type": "stream",
     "text": [
      "Epoch: 63, train_loss=0.26818727247416974, valid_loss=0.17720258370041847  cer_new 0.06400000303983688 lr=0.0021\n"
     ]
    },
    {
     "name": "stderr",
     "output_type": "stream",
     "text": [
      "100%|██████████| 100/100 [00:02<00:00, 46.27it/s]\n",
      "100%|██████████| 25/25 [00:00<00:00, 53.05it/s]\n"
     ]
    },
    {
     "name": "stdout",
     "output_type": "stream",
     "text": [
      "Epoch: 64, train_loss=0.271898265555501, valid_loss=0.18272943317890167  cer_new 0.05400000140070915 lr=0.0021\n",
      "Epoch 00065: reducing learning rate of group 0 to 1.4700e-03.\n"
     ]
    },
    {
     "name": "stderr",
     "output_type": "stream",
     "text": [
      "100%|██████████| 100/100 [00:02<00:00, 43.07it/s]\n",
      "100%|██████████| 25/25 [00:00<00:00, 53.72it/s]\n"
     ]
    },
    {
     "name": "stdout",
     "output_type": "stream",
     "text": [
      "Epoch: 65, train_loss=0.26745185151696205, valid_loss=0.1301644992828369  cer_new 0.035999998450279236 lr=0.0014699999999999997\n"
     ]
    },
    {
     "name": "stderr",
     "output_type": "stream",
     "text": [
      "100%|██████████| 100/100 [00:02<00:00, 46.12it/s]\n",
      "100%|██████████| 25/25 [00:00<00:00, 51.29it/s]\n"
     ]
    },
    {
     "name": "stdout",
     "output_type": "stream",
     "text": [
      "Epoch: 66, train_loss=0.24120579928159713, valid_loss=0.13836318284273147  cer_new 0.03700000047683716 lr=0.0014699999999999997\n"
     ]
    },
    {
     "name": "stderr",
     "output_type": "stream",
     "text": [
      "100%|██████████| 100/100 [00:02<00:00, 46.11it/s]\n",
      "100%|██████████| 25/25 [00:00<00:00, 36.68it/s]\n"
     ]
    },
    {
     "name": "stdout",
     "output_type": "stream",
     "text": [
      "Epoch: 67, train_loss=0.23372071020305157, valid_loss=0.14514063984155656  cer_new 0.04699999839067459 lr=0.0014699999999999997\n"
     ]
    },
    {
     "name": "stderr",
     "output_type": "stream",
     "text": [
      "100%|██████████| 100/100 [00:02<00:00, 43.91it/s]\n",
      "100%|██████████| 25/25 [00:00<00:00, 46.72it/s]\n"
     ]
    },
    {
     "name": "stdout",
     "output_type": "stream",
     "text": [
      "Epoch: 68, train_loss=0.23045349791646003, valid_loss=0.16535502538084984  cer_new 0.04899999871850014 lr=0.0014699999999999997\n"
     ]
    },
    {
     "name": "stderr",
     "output_type": "stream",
     "text": [
      "100%|██████████| 100/100 [00:02<00:00, 45.93it/s]\n",
      "100%|██████████| 25/25 [00:00<00:00, 53.47it/s]\n"
     ]
    },
    {
     "name": "stdout",
     "output_type": "stream",
     "text": [
      "Epoch: 69, train_loss=0.2072747416049242, valid_loss=0.12376653209328652  cer_new 0.028999999165534973 lr=0.0014699999999999997\n"
     ]
    },
    {
     "name": "stderr",
     "output_type": "stream",
     "text": [
      "100%|██████████| 100/100 [00:02<00:00, 46.38it/s]\n",
      "100%|██████████| 25/25 [00:00<00:00, 53.77it/s]\n"
     ]
    },
    {
     "name": "stdout",
     "output_type": "stream",
     "text": [
      "Epoch: 70, train_loss=0.21754768542945385, valid_loss=0.13620115891098977  cer_new 0.0430000014603138 lr=0.0014699999999999997\n"
     ]
    },
    {
     "name": "stderr",
     "output_type": "stream",
     "text": [
      "100%|██████████| 100/100 [00:02<00:00, 46.12it/s]\n",
      "100%|██████████| 25/25 [00:00<00:00, 53.14it/s]\n"
     ]
    },
    {
     "name": "stdout",
     "output_type": "stream",
     "text": [
      "Epoch: 71, train_loss=0.19857285618782045, valid_loss=0.13567877560853958  cer_new 0.04100000113248825 lr=0.0014699999999999997\n"
     ]
    },
    {
     "name": "stderr",
     "output_type": "stream",
     "text": [
      "100%|██████████| 100/100 [00:02<00:00, 43.16it/s]\n",
      "100%|██████████| 25/25 [00:00<00:00, 52.31it/s]\n"
     ]
    },
    {
     "name": "stdout",
     "output_type": "stream",
     "text": [
      "Epoch: 72, train_loss=0.18779862567782402, valid_loss=0.10995741114020348  cer_new 0.03999999910593033 lr=0.0014699999999999997\n"
     ]
    },
    {
     "name": "stderr",
     "output_type": "stream",
     "text": [
      "100%|██████████| 100/100 [00:02<00:00, 46.15it/s]\n",
      "100%|██████████| 25/25 [00:00<00:00, 53.19it/s]\n"
     ]
    },
    {
     "name": "stdout",
     "output_type": "stream",
     "text": [
      "Epoch: 73, train_loss=0.20674081347882747, valid_loss=0.11996291071176529  cer_new 0.052000001072883606 lr=0.0014699999999999997\n"
     ]
    },
    {
     "name": "stderr",
     "output_type": "stream",
     "text": [
      "100%|██████████| 100/100 [00:02<00:00, 46.22it/s]\n",
      "100%|██████████| 25/25 [00:00<00:00, 51.84it/s]\n"
     ]
    },
    {
     "name": "stdout",
     "output_type": "stream",
     "text": [
      "Epoch: 74, train_loss=0.1941216003894806, valid_loss=0.12516369052231313  cer_new 0.032999999821186066 lr=0.0014699999999999997\n"
     ]
    },
    {
     "name": "stderr",
     "output_type": "stream",
     "text": [
      "100%|██████████| 100/100 [00:02<00:00, 45.14it/s]\n",
      "100%|██████████| 25/25 [00:00<00:00, 44.06it/s]\n"
     ]
    },
    {
     "name": "stdout",
     "output_type": "stream",
     "text": [
      "Epoch: 75, train_loss=0.17763896703720092, valid_loss=0.10305414259433747  cer_new 0.02800000086426735 lr=0.0014699999999999997\n"
     ]
    },
    {
     "name": "stderr",
     "output_type": "stream",
     "text": [
      "100%|██████████| 100/100 [00:02<00:00, 46.47it/s]\n",
      "100%|██████████| 25/25 [00:00<00:00, 53.17it/s]\n"
     ]
    },
    {
     "name": "stdout",
     "output_type": "stream",
     "text": [
      "Epoch: 76, train_loss=0.18061967385932803, valid_loss=0.1432738047838211  cer_new 0.04800000041723251 lr=0.0014699999999999997\n"
     ]
    },
    {
     "name": "stderr",
     "output_type": "stream",
     "text": [
      "100%|██████████| 100/100 [00:02<00:00, 44.74it/s]\n",
      "100%|██████████| 25/25 [00:00<00:00, 32.07it/s]\n"
     ]
    },
    {
     "name": "stdout",
     "output_type": "stream",
     "text": [
      "Epoch: 77, train_loss=0.18438595313578843, valid_loss=0.13227828957140444  cer_new 0.04399999976158142 lr=0.0014699999999999997\n"
     ]
    },
    {
     "name": "stderr",
     "output_type": "stream",
     "text": [
      "100%|██████████| 100/100 [00:02<00:00, 45.65it/s]\n",
      "100%|██████████| 25/25 [00:00<00:00, 43.65it/s]\n"
     ]
    },
    {
     "name": "stdout",
     "output_type": "stream",
     "text": [
      "Epoch: 78, train_loss=0.17903535567224027, valid_loss=0.1338288176059723  cer_new 0.03799999877810478 lr=0.0014699999999999997\n"
     ]
    },
    {
     "name": "stderr",
     "output_type": "stream",
     "text": [
      "100%|██████████| 100/100 [00:02<00:00, 43.30it/s]\n",
      "100%|██████████| 25/25 [00:00<00:00, 53.32it/s]\n"
     ]
    },
    {
     "name": "stdout",
     "output_type": "stream",
     "text": [
      "Epoch: 79, train_loss=0.19080264564603566, valid_loss=0.10549811653792858  cer_new 0.03200000151991844 lr=0.0014699999999999997\n"
     ]
    },
    {
     "name": "stderr",
     "output_type": "stream",
     "text": [
      "100%|██████████| 100/100 [00:02<00:00, 46.00it/s]\n",
      "100%|██████████| 25/25 [00:00<00:00, 51.27it/s]\n"
     ]
    },
    {
     "name": "stdout",
     "output_type": "stream",
     "text": [
      "Epoch: 80, train_loss=0.16978330355137586, valid_loss=0.08867773525416851  cer_new 0.020999999716877937 lr=0.0014699999999999997\n"
     ]
    },
    {
     "name": "stderr",
     "output_type": "stream",
     "text": [
      "100%|██████████| 100/100 [00:02<00:00, 45.89it/s]\n",
      "100%|██████████| 25/25 [00:00<00:00, 52.27it/s]\n"
     ]
    },
    {
     "name": "stdout",
     "output_type": "stream",
     "text": [
      "Epoch: 81, train_loss=0.15434056874364616, valid_loss=0.09848061628639698  cer_new 0.02500000037252903 lr=0.0014699999999999997\n"
     ]
    },
    {
     "name": "stderr",
     "output_type": "stream",
     "text": [
      "100%|██████████| 100/100 [00:02<00:00, 45.47it/s]\n",
      "100%|██████████| 25/25 [00:00<00:00, 37.02it/s]\n"
     ]
    },
    {
     "name": "stdout",
     "output_type": "stream",
     "text": [
      "Epoch: 82, train_loss=0.15184747777879237, valid_loss=0.10103657759726048  cer_new 0.019999999552965164 lr=0.0014699999999999997\n"
     ]
    },
    {
     "name": "stderr",
     "output_type": "stream",
     "text": [
      "100%|██████████| 100/100 [00:02<00:00, 46.47it/s]\n",
      "100%|██████████| 25/25 [00:00<00:00, 52.77it/s]\n"
     ]
    },
    {
     "name": "stdout",
     "output_type": "stream",
     "text": [
      "Epoch: 83, train_loss=0.16172189109027385, valid_loss=0.08723299089819193  cer_new 0.017000000923871994 lr=0.0014699999999999997\n"
     ]
    },
    {
     "name": "stderr",
     "output_type": "stream",
     "text": [
      "100%|██████████| 100/100 [00:02<00:00, 46.26it/s]\n",
      "100%|██████████| 25/25 [00:00<00:00, 53.81it/s]\n"
     ]
    },
    {
     "name": "stdout",
     "output_type": "stream",
     "text": [
      "Epoch: 84, train_loss=0.1623612305894494, valid_loss=0.10688827373087406  cer_new 0.023000000044703484 lr=0.0014699999999999997\n"
     ]
    },
    {
     "name": "stderr",
     "output_type": "stream",
     "text": [
      "100%|██████████| 100/100 [00:02<00:00, 46.39it/s]\n",
      "100%|██████████| 25/25 [00:00<00:00, 54.00it/s]\n"
     ]
    },
    {
     "name": "stdout",
     "output_type": "stream",
     "text": [
      "Epoch: 85, train_loss=0.15670425614342093, valid_loss=0.08181992646306753  cer_new 0.01899999938905239 lr=0.0014699999999999997\n"
     ]
    },
    {
     "name": "stderr",
     "output_type": "stream",
     "text": [
      "100%|██████████| 100/100 [00:02<00:00, 43.77it/s]\n",
      "100%|██████████| 25/25 [00:00<00:00, 54.22it/s]\n"
     ]
    },
    {
     "name": "stdout",
     "output_type": "stream",
     "text": [
      "Epoch: 86, train_loss=0.14001312509179115, valid_loss=0.11597883731126785  cer_new 0.01899999938905239 lr=0.0014699999999999997\n"
     ]
    },
    {
     "name": "stderr",
     "output_type": "stream",
     "text": [
      "100%|██████████| 100/100 [00:02<00:00, 41.68it/s]\n",
      "100%|██████████| 25/25 [00:00<00:00, 39.24it/s]\n"
     ]
    },
    {
     "name": "stdout",
     "output_type": "stream",
     "text": [
      "Epoch: 87, train_loss=0.17068001737818123, valid_loss=0.08994997546076774  cer_new 0.017999999225139618 lr=0.0014699999999999997\n"
     ]
    },
    {
     "name": "stderr",
     "output_type": "stream",
     "text": [
      "100%|██████████| 100/100 [00:02<00:00, 46.50it/s]\n",
      "100%|██████████| 25/25 [00:00<00:00, 51.20it/s]\n"
     ]
    },
    {
     "name": "stdout",
     "output_type": "stream",
     "text": [
      "Epoch: 88, train_loss=0.16569198008626698, valid_loss=0.1001972907781601  cer_new 0.02500000037252903 lr=0.0014699999999999997\n"
     ]
    },
    {
     "name": "stderr",
     "output_type": "stream",
     "text": [
      "100%|██████████| 100/100 [00:02<00:00, 45.39it/s]\n",
      "100%|██████████| 25/25 [00:00<00:00, 40.10it/s]\n"
     ]
    },
    {
     "name": "stdout",
     "output_type": "stream",
     "text": [
      "Epoch: 89, train_loss=0.16967516221106052, valid_loss=0.08336848504841328  cer_new 0.019999999552965164 lr=0.0014699999999999997\n"
     ]
    },
    {
     "name": "stderr",
     "output_type": "stream",
     "text": [
      "100%|██████████| 100/100 [00:02<00:00, 45.93it/s]\n",
      "100%|██████████| 25/25 [00:00<00:00, 52.38it/s]\n"
     ]
    },
    {
     "name": "stdout",
     "output_type": "stream",
     "text": [
      "Epoch: 90, train_loss=0.15468122523277997, valid_loss=0.10488238576799631  cer_new 0.032999999821186066 lr=0.0014699999999999997\n"
     ]
    },
    {
     "name": "stderr",
     "output_type": "stream",
     "text": [
      "100%|██████████| 100/100 [00:02<00:00, 45.78it/s]\n",
      "100%|██████████| 25/25 [00:00<00:00, 55.06it/s]\n"
     ]
    },
    {
     "name": "stdout",
     "output_type": "stream",
     "text": [
      "Epoch: 91, train_loss=0.15210478249937295, valid_loss=0.08871553584933281  cer_new 0.024000000208616257 lr=0.0014699999999999997\n",
      "Epoch 00092: reducing learning rate of group 0 to 1.0290e-03.\n"
     ]
    },
    {
     "name": "stderr",
     "output_type": "stream",
     "text": [
      "100%|██████████| 100/100 [00:02<00:00, 46.19it/s]\n",
      "100%|██████████| 25/25 [00:00<00:00, 54.01it/s]\n"
     ]
    },
    {
     "name": "stdout",
     "output_type": "stream",
     "text": [
      "Epoch: 92, train_loss=0.13380222350358964, valid_loss=0.08412342995405198  cer_new 0.017000000923871994 lr=0.0010289999999999997\n"
     ]
    },
    {
     "name": "stderr",
     "output_type": "stream",
     "text": [
      "100%|██████████| 100/100 [00:02<00:00, 43.36it/s]\n",
      "100%|██████████| 25/25 [00:00<00:00, 52.25it/s]\n"
     ]
    },
    {
     "name": "stdout",
     "output_type": "stream",
     "text": [
      "Epoch: 93, train_loss=0.15122733864933252, valid_loss=0.09898895934224129  cer_new 0.029999999329447746 lr=0.0010289999999999997\n"
     ]
    },
    {
     "name": "stderr",
     "output_type": "stream",
     "text": [
      "100%|██████████| 100/100 [00:02<00:00, 46.61it/s]\n",
      "100%|██████████| 25/25 [00:00<00:00, 44.54it/s]\n"
     ]
    },
    {
     "name": "stdout",
     "output_type": "stream",
     "text": [
      "Epoch: 94, train_loss=0.14134262593463062, valid_loss=0.08067452900111675  cer_new 0.01600000075995922 lr=0.0010289999999999997\n"
     ]
    },
    {
     "name": "stderr",
     "output_type": "stream",
     "text": [
      "100%|██████████| 100/100 [00:02<00:00, 46.16it/s]\n",
      "100%|██████████| 25/25 [00:00<00:00, 50.96it/s]\n"
     ]
    },
    {
     "name": "stdout",
     "output_type": "stream",
     "text": [
      "Epoch: 95, train_loss=0.1266133126989007, valid_loss=0.07902621887624264  cer_new 0.01600000075995922 lr=0.0010289999999999997\n"
     ]
    },
    {
     "name": "stderr",
     "output_type": "stream",
     "text": [
      "100%|██████████| 100/100 [00:02<00:00, 45.07it/s]\n",
      "100%|██████████| 25/25 [00:00<00:00, 38.86it/s]\n"
     ]
    },
    {
     "name": "stdout",
     "output_type": "stream",
     "text": [
      "Epoch: 96, train_loss=0.11791872654110193, valid_loss=0.06363830545917154  cer_new 0.009999999776482582 lr=0.0010289999999999997\n"
     ]
    },
    {
     "name": "stderr",
     "output_type": "stream",
     "text": [
      "100%|██████████| 100/100 [00:02<00:00, 38.81it/s]\n",
      "100%|██████████| 25/25 [00:00<00:00, 51.94it/s]\n"
     ]
    },
    {
     "name": "stdout",
     "output_type": "stream",
     "text": [
      "Epoch: 97, train_loss=0.12139205472543836, valid_loss=0.06981847923249006  cer_new 0.013000000268220901 lr=0.0010289999999999997\n"
     ]
    },
    {
     "name": "stderr",
     "output_type": "stream",
     "text": [
      "100%|██████████| 100/100 [00:02<00:00, 46.15it/s]\n",
      "100%|██████████| 25/25 [00:00<00:00, 54.06it/s]\n"
     ]
    },
    {
     "name": "stdout",
     "output_type": "stream",
     "text": [
      "Epoch: 98, train_loss=0.14169871805235743, valid_loss=0.06640397235751153  cer_new 0.014999999664723873 lr=0.0010289999999999997\n"
     ]
    },
    {
     "name": "stderr",
     "output_type": "stream",
     "text": [
      "100%|██████████| 100/100 [00:02<00:00, 46.60it/s]\n",
      "100%|██████████| 25/25 [00:00<00:00, 52.50it/s]\n"
     ]
    },
    {
     "name": "stdout",
     "output_type": "stream",
     "text": [
      "Epoch: 99, train_loss=0.12161032056435943, valid_loss=0.061941322851926085  cer_new 0.014000000432133675 lr=0.0010289999999999997\n"
     ]
    },
    {
     "name": "stderr",
     "output_type": "stream",
     "text": [
      "100%|██████████| 100/100 [00:02<00:00, 43.52it/s]\n",
      "100%|██████████| 25/25 [00:00<00:00, 53.60it/s]\n"
     ]
    },
    {
     "name": "stdout",
     "output_type": "stream",
     "text": [
      "Epoch: 100, train_loss=0.11611515315249563, valid_loss=0.08890365475788713  cer_new 0.017000000923871994 lr=0.0010289999999999997\n"
     ]
    },
    {
     "name": "stderr",
     "output_type": "stream",
     "text": [
      "100%|██████████| 100/100 [00:02<00:00, 46.29it/s]\n",
      "100%|██████████| 25/25 [00:00<00:00, 52.03it/s]\n"
     ]
    },
    {
     "name": "stdout",
     "output_type": "stream",
     "text": [
      "Epoch: 101, train_loss=0.11729737078770995, valid_loss=0.06593923699110746  cer_new 0.009999999776482582 lr=0.0010289999999999997\n"
     ]
    },
    {
     "name": "stderr",
     "output_type": "stream",
     "text": [
      "100%|██████████| 100/100 [00:02<00:00, 46.35it/s]\n",
      "100%|██████████| 25/25 [00:00<00:00, 54.01it/s]\n"
     ]
    },
    {
     "name": "stdout",
     "output_type": "stream",
     "text": [
      "Epoch: 102, train_loss=0.10964307450689376, valid_loss=0.0757015785202384  cer_new 0.017000000923871994 lr=0.0010289999999999997\n"
     ]
    },
    {
     "name": "stderr",
     "output_type": "stream",
     "text": [
      "100%|██████████| 100/100 [00:02<00:00, 43.79it/s]\n",
      "100%|██████████| 25/25 [00:00<00:00, 45.41it/s]\n"
     ]
    },
    {
     "name": "stdout",
     "output_type": "stream",
     "text": [
      "Epoch: 103, train_loss=0.11250686654821038, valid_loss=0.07864301089197397  cer_new 0.014000000432133675 lr=0.0010289999999999997\n"
     ]
    },
    {
     "name": "stderr",
     "output_type": "stream",
     "text": [
      "100%|██████████| 100/100 [00:02<00:00, 46.04it/s]\n",
      "100%|██████████| 25/25 [00:00<00:00, 53.00it/s]\n"
     ]
    },
    {
     "name": "stdout",
     "output_type": "stream",
     "text": [
      "Epoch: 104, train_loss=0.123444529119879, valid_loss=0.08940833739936352  cer_new 0.014000000432133675 lr=0.0010289999999999997\n"
     ]
    },
    {
     "name": "stderr",
     "output_type": "stream",
     "text": [
      "100%|██████████| 100/100 [00:02<00:00, 46.47it/s]\n",
      "100%|██████████| 25/25 [00:00<00:00, 53.21it/s]\n"
     ]
    },
    {
     "name": "stdout",
     "output_type": "stream",
     "text": [
      "Epoch: 105, train_loss=0.13123983833938838, valid_loss=0.06422873428091407  cer_new 0.010999999940395355 lr=0.0010289999999999997\n",
      "Epoch 00106: reducing learning rate of group 0 to 7.2030e-04.\n"
     ]
    },
    {
     "name": "stderr",
     "output_type": "stream",
     "text": [
      "100%|██████████| 100/100 [00:02<00:00, 46.37it/s]\n",
      "100%|██████████| 25/25 [00:00<00:00, 52.30it/s]\n"
     ]
    },
    {
     "name": "stdout",
     "output_type": "stream",
     "text": [
      "Epoch: 106, train_loss=0.11537271335721017, valid_loss=0.058042495232075456  cer_new 0.006000000052154064 lr=0.0007202999999999998\n"
     ]
    },
    {
     "name": "stderr",
     "output_type": "stream",
     "text": [
      "100%|██████████| 100/100 [00:02<00:00, 37.28it/s]\n",
      "100%|██████████| 25/25 [00:00<00:00, 54.91it/s]\n"
     ]
    },
    {
     "name": "stdout",
     "output_type": "stream",
     "text": [
      "Epoch: 107, train_loss=0.11132233249954879, valid_loss=0.061269319467246536  cer_new 0.008999999612569809 lr=0.0007202999999999998\n"
     ]
    },
    {
     "name": "stderr",
     "output_type": "stream",
     "text": [
      "100%|██████████| 100/100 [00:02<00:00, 47.17it/s]\n",
      "100%|██████████| 25/25 [00:00<00:00, 54.73it/s]\n"
     ]
    },
    {
     "name": "stdout",
     "output_type": "stream",
     "text": [
      "Epoch: 108, train_loss=0.1030847761593759, valid_loss=0.06259050283581019  cer_new 0.014999999664723873 lr=0.0007202999999999998\n"
     ]
    },
    {
     "name": "stderr",
     "output_type": "stream",
     "text": [
      "100%|██████████| 100/100 [00:02<00:00, 45.35it/s]\n",
      "100%|██████████| 25/25 [00:00<00:00, 51.01it/s]\n"
     ]
    },
    {
     "name": "stdout",
     "output_type": "stream",
     "text": [
      "Epoch: 109, train_loss=0.11089229234494269, valid_loss=0.05916754858568311  cer_new 0.00800000037997961 lr=0.0007202999999999998\n"
     ]
    },
    {
     "name": "stderr",
     "output_type": "stream",
     "text": [
      "100%|██████████| 100/100 [00:02<00:00, 42.54it/s]\n",
      "100%|██████████| 25/25 [00:00<00:00, 52.61it/s]\n"
     ]
    },
    {
     "name": "stdout",
     "output_type": "stream",
     "text": [
      "Epoch: 110, train_loss=0.11655886510387063, valid_loss=0.06797767527401448  cer_new 0.010999999940395355 lr=0.0007202999999999998\n"
     ]
    },
    {
     "name": "stderr",
     "output_type": "stream",
     "text": [
      "100%|██████████| 100/100 [00:02<00:00, 46.18it/s]\n",
      "100%|██████████| 25/25 [00:00<00:00, 52.26it/s]\n"
     ]
    },
    {
     "name": "stdout",
     "output_type": "stream",
     "text": [
      "Epoch: 111, train_loss=0.0917045908421278, valid_loss=0.056314901914447546  cer_new 0.012000000104308128 lr=0.0007202999999999998\n"
     ]
    },
    {
     "name": "stderr",
     "output_type": "stream",
     "text": [
      "100%|██████████| 100/100 [00:02<00:00, 46.34it/s]\n",
      "100%|██████████| 25/25 [00:00<00:00, 52.10it/s]\n"
     ]
    },
    {
     "name": "stdout",
     "output_type": "stream",
     "text": [
      "Epoch: 112, train_loss=0.09929778210818768, valid_loss=0.050512939617037775  cer_new 0.00800000037997961 lr=0.0007202999999999998\n"
     ]
    },
    {
     "name": "stderr",
     "output_type": "stream",
     "text": [
      "100%|██████████| 100/100 [00:02<00:00, 46.25it/s]\n",
      "100%|██████████| 25/25 [00:00<00:00, 46.20it/s]\n"
     ]
    },
    {
     "name": "stdout",
     "output_type": "stream",
     "text": [
      "Epoch: 113, train_loss=0.09540567889809609, valid_loss=0.05797024702653289  cer_new 0.010999999940395355 lr=0.0007202999999999998\n"
     ]
    },
    {
     "name": "stderr",
     "output_type": "stream",
     "text": [
      "100%|██████████| 100/100 [00:02<00:00, 43.51it/s]\n",
      "100%|██████████| 25/25 [00:00<00:00, 52.38it/s]\n"
     ]
    },
    {
     "name": "stdout",
     "output_type": "stream",
     "text": [
      "Epoch: 114, train_loss=0.08516529764980078, valid_loss=0.049592096172273156  cer_new 0.006000000052154064 lr=0.0007202999999999998\n"
     ]
    },
    {
     "name": "stderr",
     "output_type": "stream",
     "text": [
      "100%|██████████| 100/100 [00:02<00:00, 46.59it/s]\n",
      "100%|██████████| 25/25 [00:00<00:00, 53.18it/s]\n"
     ]
    },
    {
     "name": "stdout",
     "output_type": "stream",
     "text": [
      "Epoch: 115, train_loss=0.0829200068116188, valid_loss=0.05760254349559545  cer_new 0.009999999776482582 lr=0.0007202999999999998\n"
     ]
    },
    {
     "name": "stderr",
     "output_type": "stream",
     "text": [
      "100%|██████████| 100/100 [00:02<00:00, 45.50it/s]\n",
      "100%|██████████| 25/25 [00:00<00:00, 50.93it/s]\n"
     ]
    },
    {
     "name": "stdout",
     "output_type": "stream",
     "text": [
      "Epoch: 116, train_loss=0.08594095285050571, valid_loss=0.058151321914047004  cer_new 0.010999999940395355 lr=0.0007202999999999998\n"
     ]
    },
    {
     "name": "stderr",
     "output_type": "stream",
     "text": [
      "100%|██████████| 100/100 [00:02<00:00, 35.35it/s]\n",
      "100%|██████████| 25/25 [00:00<00:00, 53.58it/s]\n"
     ]
    },
    {
     "name": "stdout",
     "output_type": "stream",
     "text": [
      "Epoch: 117, train_loss=0.08402228890918195, valid_loss=0.050286902748048305  cer_new 0.007000000216066837 lr=0.0007202999999999998\n"
     ]
    },
    {
     "name": "stderr",
     "output_type": "stream",
     "text": [
      "100%|██████████| 100/100 [00:02<00:00, 46.48it/s]\n",
      "100%|██████████| 25/25 [00:00<00:00, 52.65it/s]\n"
     ]
    },
    {
     "name": "stdout",
     "output_type": "stream",
     "text": [
      "Epoch: 118, train_loss=0.08432222612202167, valid_loss=0.054544744081795216  cer_new 0.006000000052154064 lr=0.0007202999999999998\n"
     ]
    },
    {
     "name": "stderr",
     "output_type": "stream",
     "text": [
      "100%|██████████| 100/100 [00:02<00:00, 46.18it/s]\n",
      "100%|██████████| 25/25 [00:00<00:00, 53.15it/s]\n"
     ]
    },
    {
     "name": "stdout",
     "output_type": "stream",
     "text": [
      "Epoch: 119, train_loss=0.07161784930154681, valid_loss=0.04854084072634578  cer_new 0.008999999612569809 lr=0.0007202999999999998\n"
     ]
    },
    {
     "name": "stderr",
     "output_type": "stream",
     "text": [
      "100%|██████████| 100/100 [00:02<00:00, 45.62it/s]\n",
      "100%|██████████| 25/25 [00:00<00:00, 49.12it/s]\n"
     ]
    },
    {
     "name": "stdout",
     "output_type": "stream",
     "text": [
      "Epoch: 120, train_loss=0.0882610444072634, valid_loss=0.05012707989662886  cer_new 0.006000000052154064 lr=0.0007202999999999998\n"
     ]
    },
    {
     "name": "stderr",
     "output_type": "stream",
     "text": [
      "100%|██████████| 100/100 [00:02<00:00, 45.42it/s]\n",
      "100%|██████████| 25/25 [00:00<00:00, 52.08it/s]\n"
     ]
    },
    {
     "name": "stdout",
     "output_type": "stream",
     "text": [
      "Epoch: 121, train_loss=0.08116547592449934, valid_loss=0.04807941807433963  cer_new 0.007000000216066837 lr=0.0007202999999999998\n"
     ]
    },
    {
     "name": "stderr",
     "output_type": "stream",
     "text": [
      "100%|██████████| 100/100 [00:02<00:00, 46.14it/s]\n",
      "100%|██████████| 25/25 [00:00<00:00, 52.87it/s]\n"
     ]
    },
    {
     "name": "stdout",
     "output_type": "stream",
     "text": [
      "Epoch: 122, train_loss=0.09101479969918728, valid_loss=0.05898699119687081  cer_new 0.013000000268220901 lr=0.0007202999999999998\n"
     ]
    },
    {
     "name": "stderr",
     "output_type": "stream",
     "text": [
      "100%|██████████| 100/100 [00:02<00:00, 46.42it/s]\n",
      "100%|██████████| 25/25 [00:00<00:00, 51.69it/s]\n"
     ]
    },
    {
     "name": "stdout",
     "output_type": "stream",
     "text": [
      "Epoch: 123, train_loss=0.08382372985593975, valid_loss=0.05081820246763527  cer_new 0.009999999776482582 lr=0.0007202999999999998\n"
     ]
    },
    {
     "name": "stderr",
     "output_type": "stream",
     "text": [
      "100%|██████████| 100/100 [00:02<00:00, 43.47it/s]\n",
      "100%|██████████| 25/25 [00:00<00:00, 56.21it/s]\n"
     ]
    },
    {
     "name": "stdout",
     "output_type": "stream",
     "text": [
      "Epoch: 124, train_loss=0.09130814732052386, valid_loss=0.061104255001991986  cer_new 0.010999999940395355 lr=0.0007202999999999998\n"
     ]
    },
    {
     "name": "stderr",
     "output_type": "stream",
     "text": [
      "100%|██████████| 100/100 [00:02<00:00, 46.27it/s]\n",
      "100%|██████████| 25/25 [00:00<00:00, 51.80it/s]\n"
     ]
    },
    {
     "name": "stdout",
     "output_type": "stream",
     "text": [
      "Epoch: 125, train_loss=0.08492194201797247, valid_loss=0.05042026448994875  cer_new 0.00800000037997961 lr=0.0007202999999999998\n"
     ]
    },
    {
     "name": "stderr",
     "output_type": "stream",
     "text": [
      "100%|██████████| 100/100 [00:02<00:00, 46.18it/s]\n",
      "100%|██████████| 25/25 [00:00<00:00, 52.04it/s]\n"
     ]
    },
    {
     "name": "stdout",
     "output_type": "stream",
     "text": [
      "Epoch: 126, train_loss=0.08203635977581143, valid_loss=0.054334198851138354  cer_new 0.00800000037997961 lr=0.0007202999999999998\n"
     ]
    },
    {
     "name": "stderr",
     "output_type": "stream",
     "text": [
      "100%|██████████| 100/100 [00:02<00:00, 39.29it/s]\n",
      "100%|██████████| 25/25 [00:00<00:00, 49.85it/s]\n"
     ]
    },
    {
     "name": "stdout",
     "output_type": "stream",
     "text": [
      "Epoch: 127, train_loss=0.07982270603999496, valid_loss=0.05514832539483905  cer_new 0.009999999776482582 lr=0.0007202999999999998\n",
      "Epoch 00128: reducing learning rate of group 0 to 5.0421e-04.\n"
     ]
    },
    {
     "name": "stderr",
     "output_type": "stream",
     "text": [
      "100%|██████████| 100/100 [00:02<00:00, 45.79it/s]\n",
      "100%|██████████| 25/25 [00:00<00:00, 53.18it/s]\n"
     ]
    },
    {
     "name": "stdout",
     "output_type": "stream",
     "text": [
      "Epoch: 128, train_loss=0.07419532212428749, valid_loss=0.0541552940942347  cer_new 0.010999999940395355 lr=0.0005042099999999998\n"
     ]
    },
    {
     "name": "stderr",
     "output_type": "stream",
     "text": [
      "100%|██████████| 100/100 [00:02<00:00, 46.54it/s]\n",
      "100%|██████████| 25/25 [00:00<00:00, 52.67it/s]\n"
     ]
    },
    {
     "name": "stdout",
     "output_type": "stream",
     "text": [
      "Epoch: 129, train_loss=0.08631867514923215, valid_loss=0.05464808022603393  cer_new 0.010999999940395355 lr=0.0005042099999999998\n"
     ]
    },
    {
     "name": "stderr",
     "output_type": "stream",
     "text": [
      "100%|██████████| 100/100 [00:02<00:00, 46.25it/s]\n",
      "100%|██████████| 25/25 [00:00<00:00, 51.93it/s]\n"
     ]
    },
    {
     "name": "stdout",
     "output_type": "stream",
     "text": [
      "Epoch: 130, train_loss=0.06653656858950853, valid_loss=0.04337559143081307  cer_new 0.007000000216066837 lr=0.0005042099999999998\n"
     ]
    },
    {
     "name": "stderr",
     "output_type": "stream",
     "text": [
      "100%|██████████| 100/100 [00:02<00:00, 42.85it/s]\n",
      "100%|██████████| 25/25 [00:00<00:00, 50.97it/s]\n"
     ]
    },
    {
     "name": "stdout",
     "output_type": "stream",
     "text": [
      "Epoch: 131, train_loss=0.06752084383741021, valid_loss=0.050703995805233715  cer_new 0.009999999776482582 lr=0.0005042099999999998\n"
     ]
    },
    {
     "name": "stderr",
     "output_type": "stream",
     "text": [
      "100%|██████████| 100/100 [00:02<00:00, 46.47it/s]\n",
      "100%|██████████| 25/25 [00:00<00:00, 52.55it/s]\n"
     ]
    },
    {
     "name": "stdout",
     "output_type": "stream",
     "text": [
      "Epoch: 132, train_loss=0.06298954052850604, valid_loss=0.048535367799922825  cer_new 0.00800000037997961 lr=0.0005042099999999998\n"
     ]
    },
    {
     "name": "stderr",
     "output_type": "stream",
     "text": [
      "100%|██████████| 100/100 [00:02<00:00, 46.04it/s]\n",
      "100%|██████████| 25/25 [00:00<00:00, 49.30it/s]\n"
     ]
    },
    {
     "name": "stdout",
     "output_type": "stream",
     "text": [
      "Epoch: 133, train_loss=0.06676985155791045, valid_loss=0.05356340426951647  cer_new 0.010999999940395355 lr=0.0005042099999999998\n"
     ]
    },
    {
     "name": "stderr",
     "output_type": "stream",
     "text": [
      "100%|██████████| 100/100 [00:02<00:00, 45.42it/s]\n",
      "100%|██████████| 25/25 [00:00<00:00, 46.71it/s]\n"
     ]
    },
    {
     "name": "stdout",
     "output_type": "stream",
     "text": [
      "Epoch: 134, train_loss=0.07540419766213745, valid_loss=0.053350913356989625  cer_new 0.008999999612569809 lr=0.0005042099999999998\n"
     ]
    },
    {
     "name": "stderr",
     "output_type": "stream",
     "text": [
      "100%|██████████| 100/100 [00:02<00:00, 45.49it/s]\n",
      "100%|██████████| 25/25 [00:00<00:00, 51.72it/s]\n"
     ]
    },
    {
     "name": "stdout",
     "output_type": "stream",
     "text": [
      "Epoch: 135, train_loss=0.06864739511162042, valid_loss=0.05069801863282919  cer_new 0.008999999612569809 lr=0.0005042099999999998\n"
     ]
    },
    {
     "name": "stderr",
     "output_type": "stream",
     "text": [
      "100%|██████████| 100/100 [00:02<00:00, 46.31it/s]\n",
      "100%|██████████| 25/25 [00:00<00:00, 50.72it/s]\n"
     ]
    },
    {
     "name": "stdout",
     "output_type": "stream",
     "text": [
      "Epoch: 136, train_loss=0.08792680598795415, valid_loss=0.06485337873920799  cer_new 0.01600000075995922 lr=0.0005042099999999998\n",
      "Epoch 00137: reducing learning rate of group 0 to 3.5295e-04.\n"
     ]
    },
    {
     "name": "stderr",
     "output_type": "stream",
     "text": [
      "100%|██████████| 100/100 [00:02<00:00, 39.06it/s]\n",
      "100%|██████████| 25/25 [00:00<00:00, 47.56it/s]\n"
     ]
    },
    {
     "name": "stdout",
     "output_type": "stream",
     "text": [
      "Epoch: 137, train_loss=0.0799732828233391, valid_loss=0.05102724213153124  cer_new 0.008999999612569809 lr=0.0003529469999999999\n"
     ]
    },
    {
     "name": "stderr",
     "output_type": "stream",
     "text": [
      "100%|██████████| 100/100 [00:02<00:00, 43.07it/s]\n",
      "100%|██████████| 25/25 [00:00<00:00, 51.20it/s]\n"
     ]
    },
    {
     "name": "stdout",
     "output_type": "stream",
     "text": [
      "Epoch: 138, train_loss=0.06842504198197276, valid_loss=0.051151210544630885  cer_new 0.00800000037997961 lr=0.0003529469999999999\n"
     ]
    },
    {
     "name": "stderr",
     "output_type": "stream",
     "text": [
      "100%|██████████| 100/100 [00:02<00:00, 46.25it/s]\n",
      "100%|██████████| 25/25 [00:00<00:00, 51.36it/s]\n"
     ]
    },
    {
     "name": "stdout",
     "output_type": "stream",
     "text": [
      "Epoch: 139, train_loss=0.06632813042029738, valid_loss=0.04664400663226843  cer_new 0.00800000037997961 lr=0.0003529469999999999\n"
     ]
    },
    {
     "name": "stderr",
     "output_type": "stream",
     "text": [
      "100%|██████████| 100/100 [00:02<00:00, 45.95it/s]\n",
      "100%|██████████| 25/25 [00:00<00:00, 51.42it/s]\n"
     ]
    },
    {
     "name": "stdout",
     "output_type": "stream",
     "text": [
      "Epoch: 140, train_loss=0.06321227156557142, valid_loss=0.04793722532689571  cer_new 0.00800000037997961 lr=0.0003529469999999999\n"
     ]
    },
    {
     "name": "stderr",
     "output_type": "stream",
     "text": [
      "100%|██████████| 100/100 [00:02<00:00, 44.87it/s]\n",
      "100%|██████████| 25/25 [00:00<00:00, 35.35it/s]\n"
     ]
    },
    {
     "name": "stdout",
     "output_type": "stream",
     "text": [
      "Epoch: 141, train_loss=0.06261934528127312, valid_loss=0.04543282605707646  cer_new 0.004999999888241291 lr=0.0003529469999999999\n"
     ]
    },
    {
     "name": "stderr",
     "output_type": "stream",
     "text": [
      "100%|██████████| 100/100 [00:02<00:00, 46.44it/s]\n",
      "100%|██████████| 25/25 [00:00<00:00, 50.65it/s]\n"
     ]
    },
    {
     "name": "stdout",
     "output_type": "stream",
     "text": [
      "Epoch: 142, train_loss=0.06512134465388954, valid_loss=0.04523102718405426  cer_new 0.006000000052154064 lr=0.0003529469999999999\n",
      "Epoch 00143: reducing learning rate of group 0 to 2.4706e-04.\n"
     ]
    },
    {
     "name": "stderr",
     "output_type": "stream",
     "text": [
      "100%|██████████| 100/100 [00:02<00:00, 46.60it/s]\n",
      "100%|██████████| 25/25 [00:00<00:00, 51.72it/s]\n"
     ]
    },
    {
     "name": "stdout",
     "output_type": "stream",
     "text": [
      "Epoch: 143, train_loss=0.06731230252422392, valid_loss=0.04431376060470939  cer_new 0.007000000216066837 lr=0.0002470628999999999\n"
     ]
    },
    {
     "name": "stderr",
     "output_type": "stream",
     "text": [
      "100%|██████████| 100/100 [00:02<00:00, 45.88it/s]\n",
      "100%|██████████| 25/25 [00:00<00:00, 51.98it/s]\n"
     ]
    },
    {
     "name": "stdout",
     "output_type": "stream",
     "text": [
      "Epoch: 144, train_loss=0.0582713116845116, valid_loss=0.04501997007988393  cer_new 0.007000000216066837 lr=0.0002470628999999999\n"
     ]
    },
    {
     "name": "stderr",
     "output_type": "stream",
     "text": [
      "100%|██████████| 100/100 [00:02<00:00, 43.43it/s]\n",
      "100%|██████████| 25/25 [00:00<00:00, 52.35it/s]\n"
     ]
    },
    {
     "name": "stdout",
     "output_type": "stream",
     "text": [
      "Epoch: 145, train_loss=0.05415061502717435, valid_loss=0.04684705384541303  cer_new 0.00800000037997961 lr=0.0002470628999999999\n"
     ]
    },
    {
     "name": "stderr",
     "output_type": "stream",
     "text": [
      "100%|██████████| 100/100 [00:02<00:00, 46.34it/s]\n",
      "100%|██████████| 25/25 [00:00<00:00, 50.07it/s]\n"
     ]
    },
    {
     "name": "stdout",
     "output_type": "stream",
     "text": [
      "Epoch: 146, train_loss=0.05544095089659095, valid_loss=0.04416417673230171  cer_new 0.007000000216066837 lr=0.0002470628999999999\n"
     ]
    },
    {
     "name": "stderr",
     "output_type": "stream",
     "text": [
      "100%|██████████| 100/100 [00:02<00:00, 38.77it/s]\n",
      "100%|██████████| 25/25 [00:00<00:00, 50.65it/s]\n"
     ]
    },
    {
     "name": "stdout",
     "output_type": "stream",
     "text": [
      "Epoch: 147, train_loss=0.05760896706022322, valid_loss=0.04694131880067289  cer_new 0.00800000037997961 lr=0.0002470628999999999\n"
     ]
    },
    {
     "name": "stderr",
     "output_type": "stream",
     "text": [
      "100%|██████████| 100/100 [00:02<00:00, 43.72it/s]\n",
      "100%|██████████| 25/25 [00:00<00:00, 47.49it/s]\n"
     ]
    },
    {
     "name": "stdout",
     "output_type": "stream",
     "text": [
      "Epoch: 148, train_loss=0.0546312669524923, valid_loss=0.042003842256963256  cer_new 0.007000000216066837 lr=0.0002470628999999999\n"
     ]
    },
    {
     "name": "stderr",
     "output_type": "stream",
     "text": [
      "100%|██████████| 100/100 [00:02<00:00, 46.17it/s]\n",
      "100%|██████████| 25/25 [00:00<00:00, 50.97it/s]\n"
     ]
    },
    {
     "name": "stdout",
     "output_type": "stream",
     "text": [
      "Epoch: 149, train_loss=0.054606969188898805, valid_loss=0.04393128304742277  cer_new 0.007000000216066837 lr=0.0002470628999999999\n"
     ]
    },
    {
     "name": "stderr",
     "output_type": "stream",
     "text": [
      "100%|██████████| 100/100 [00:02<00:00, 46.02it/s]\n",
      "100%|██████████| 25/25 [00:00<00:00, 50.44it/s]\n"
     ]
    },
    {
     "name": "stdout",
     "output_type": "stream",
     "text": [
      "Epoch: 150, train_loss=0.05505347852595151, valid_loss=0.0439471398293972  cer_new 0.008999999612569809 lr=0.0002470628999999999\n"
     ]
    },
    {
     "name": "stderr",
     "output_type": "stream",
     "text": [
      "100%|██████████| 100/100 [00:02<00:00, 45.07it/s]\n",
      "100%|██████████| 25/25 [00:00<00:00, 47.96it/s]\n"
     ]
    },
    {
     "name": "stdout",
     "output_type": "stream",
     "text": [
      "Epoch: 151, train_loss=0.04737966049462557, valid_loss=0.04154828704893589  cer_new 0.006000000052154064 lr=0.0002470628999999999\n"
     ]
    },
    {
     "name": "stderr",
     "output_type": "stream",
     "text": [
      "100%|██████████| 100/100 [00:02<00:00, 43.25it/s]\n",
      "100%|██████████| 25/25 [00:00<00:00, 52.69it/s]\n"
     ]
    },
    {
     "name": "stdout",
     "output_type": "stream",
     "text": [
      "Epoch: 152, train_loss=0.04402873341459781, valid_loss=0.03931129844859242  cer_new 0.004000000189989805 lr=0.0002470628999999999\n"
     ]
    },
    {
     "name": "stderr",
     "output_type": "stream",
     "text": [
      "100%|██████████| 100/100 [00:02<00:00, 46.40it/s]\n",
      "100%|██████████| 25/25 [00:00<00:00, 49.63it/s]\n"
     ]
    },
    {
     "name": "stdout",
     "output_type": "stream",
     "text": [
      "Epoch: 153, train_loss=0.05631471374072135, valid_loss=0.041185677479952575  cer_new 0.004999999888241291 lr=0.0002470628999999999\n"
     ]
    },
    {
     "name": "stderr",
     "output_type": "stream",
     "text": [
      "100%|██████████| 100/100 [00:02<00:00, 43.95it/s]\n",
      "100%|██████████| 25/25 [00:00<00:00, 49.30it/s]\n"
     ]
    },
    {
     "name": "stdout",
     "output_type": "stream",
     "text": [
      "Epoch: 154, train_loss=0.049203445347957314, valid_loss=0.04286848624236882  cer_new 0.006000000052154064 lr=0.0002470628999999999\n"
     ]
    },
    {
     "name": "stderr",
     "output_type": "stream",
     "text": [
      "100%|██████████| 100/100 [00:02<00:00, 43.96it/s]\n",
      "100%|██████████| 25/25 [00:00<00:00, 47.62it/s]\n"
     ]
    },
    {
     "name": "stdout",
     "output_type": "stream",
     "text": [
      "Epoch: 155, train_loss=0.05341374118812382, valid_loss=0.04505412775091827  cer_new 0.006000000052154064 lr=0.0002470628999999999\n"
     ]
    },
    {
     "name": "stderr",
     "output_type": "stream",
     "text": [
      "100%|██████████| 100/100 [00:02<00:00, 46.18it/s]\n",
      "100%|██████████| 25/25 [00:00<00:00, 43.15it/s]\n"
     ]
    },
    {
     "name": "stdout",
     "output_type": "stream",
     "text": [
      "Epoch: 156, train_loss=0.04694892444647849, valid_loss=0.04614294411614537  cer_new 0.006000000052154064 lr=0.0002470628999999999\n"
     ]
    },
    {
     "name": "stderr",
     "output_type": "stream",
     "text": [
      "100%|██████████| 100/100 [00:02<00:00, 44.21it/s]\n",
      "100%|██████████| 25/25 [00:00<00:00, 52.12it/s]\n"
     ]
    },
    {
     "name": "stdout",
     "output_type": "stream",
     "text": [
      "Epoch: 157, train_loss=0.04961233699228615, valid_loss=0.03951881108805537  cer_new 0.004999999888241291 lr=0.0002470628999999999\n"
     ]
    },
    {
     "name": "stderr",
     "output_type": "stream",
     "text": [
      "100%|██████████| 100/100 [00:02<00:00, 45.93it/s]\n",
      "100%|██████████| 25/25 [00:00<00:00, 48.23it/s]\n"
     ]
    },
    {
     "name": "stdout",
     "output_type": "stream",
     "text": [
      "Epoch: 158, train_loss=0.05328250628896058, valid_loss=0.04010546373203397  cer_new 0.004000000189989805 lr=0.0002470628999999999\n",
      "Epoch 00159: reducing learning rate of group 0 to 1.7294e-04.\n"
     ]
    },
    {
     "name": "stderr",
     "output_type": "stream",
     "text": [
      "100%|██████████| 100/100 [00:02<00:00, 44.99it/s]\n",
      "100%|██████████| 25/25 [00:00<00:00, 50.93it/s]\n"
     ]
    },
    {
     "name": "stdout",
     "output_type": "stream",
     "text": [
      "Epoch: 159, train_loss=0.05077957822941244, valid_loss=0.04187139144167304  cer_new 0.004999999888241291 lr=0.00017294402999999992\n"
     ]
    },
    {
     "name": "stderr",
     "output_type": "stream",
     "text": [
      "100%|██████████| 100/100 [00:02<00:00, 46.07it/s]\n",
      "100%|██████████| 25/25 [00:00<00:00, 48.91it/s]\n"
     ]
    },
    {
     "name": "stdout",
     "output_type": "stream",
     "text": [
      "Epoch: 160, train_loss=0.04903427545446903, valid_loss=0.041519436724483966  cer_new 0.007000000216066837 lr=0.00017294402999999992\n"
     ]
    },
    {
     "name": "stderr",
     "output_type": "stream",
     "text": [
      "100%|██████████| 100/100 [00:02<00:00, 46.11it/s]\n",
      "100%|██████████| 25/25 [00:00<00:00, 50.57it/s]\n"
     ]
    },
    {
     "name": "stdout",
     "output_type": "stream",
     "text": [
      "Epoch: 161, train_loss=0.049986508460715416, valid_loss=0.04359331019222736  cer_new 0.004999999888241291 lr=0.00017294402999999992\n"
     ]
    },
    {
     "name": "stderr",
     "output_type": "stream",
     "text": [
      "100%|██████████| 100/100 [00:02<00:00, 42.92it/s]\n",
      "100%|██████████| 25/25 [00:00<00:00, 52.56it/s]\n"
     ]
    },
    {
     "name": "stdout",
     "output_type": "stream",
     "text": [
      "Epoch: 162, train_loss=0.055436475072056055, valid_loss=0.040742714926600455  cer_new 0.004999999888241291 lr=0.00017294402999999992\n"
     ]
    },
    {
     "name": "stderr",
     "output_type": "stream",
     "text": [
      "100%|██████████| 100/100 [00:02<00:00, 46.19it/s]\n",
      "100%|██████████| 25/25 [00:00<00:00, 52.36it/s]\n"
     ]
    },
    {
     "name": "stdout",
     "output_type": "stream",
     "text": [
      "Epoch: 163, train_loss=0.05446503732353449, valid_loss=0.040261327344924214  cer_new 0.004999999888241291 lr=0.00017294402999999992\n"
     ]
    },
    {
     "name": "stderr",
     "output_type": "stream",
     "text": [
      "100%|██████████| 100/100 [00:02<00:00, 45.82it/s]\n",
      "100%|██████████| 25/25 [00:00<00:00, 53.46it/s]\n"
     ]
    },
    {
     "name": "stdout",
     "output_type": "stream",
     "text": [
      "Epoch: 164, train_loss=0.04632643462158739, valid_loss=0.03864457804709673  cer_new 0.004000000189989805 lr=0.00017294402999999992\n"
     ]
    },
    {
     "name": "stderr",
     "output_type": "stream",
     "text": [
      "100%|██████████| 100/100 [00:02<00:00, 46.12it/s]\n",
      "100%|██████████| 25/25 [00:00<00:00, 50.93it/s]\n"
     ]
    },
    {
     "name": "stdout",
     "output_type": "stream",
     "text": [
      "Epoch: 165, train_loss=0.055869176825508474, valid_loss=0.03783640306442976  cer_new 0.006000000052154064 lr=0.00017294402999999992\n"
     ]
    },
    {
     "name": "stderr",
     "output_type": "stream",
     "text": [
      "100%|██████████| 100/100 [00:02<00:00, 43.31it/s]\n",
      "100%|██████████| 25/25 [00:00<00:00, 32.25it/s]\n"
     ]
    },
    {
     "name": "stdout",
     "output_type": "stream",
     "text": [
      "Epoch: 166, train_loss=0.04439506454858929, valid_loss=0.03759038019925356  cer_new 0.004000000189989805 lr=0.00017294402999999992\n"
     ]
    },
    {
     "name": "stderr",
     "output_type": "stream",
     "text": [
      "100%|██████████| 100/100 [00:02<00:00, 46.39it/s]\n",
      "100%|██████████| 25/25 [00:00<00:00, 53.92it/s]\n"
     ]
    },
    {
     "name": "stdout",
     "output_type": "stream",
     "text": [
      "Epoch: 167, train_loss=0.04765788317658007, valid_loss=0.038714742176234725  cer_new 0.004999999888241291 lr=0.00017294402999999992\n"
     ]
    },
    {
     "name": "stderr",
     "output_type": "stream",
     "text": [
      "100%|██████████| 100/100 [00:02<00:00, 46.39it/s]\n",
      "100%|██████████| 25/25 [00:00<00:00, 50.17it/s]\n"
     ]
    },
    {
     "name": "stdout",
     "output_type": "stream",
     "text": [
      "Epoch: 168, train_loss=0.04972257239744067, valid_loss=0.038172011133283376  cer_new 0.004999999888241291 lr=0.00017294402999999992\n"
     ]
    },
    {
     "name": "stderr",
     "output_type": "stream",
     "text": [
      "100%|██████████| 100/100 [00:02<00:00, 42.91it/s]\n",
      "100%|██████████| 25/25 [00:00<00:00, 52.18it/s]\n"
     ]
    },
    {
     "name": "stdout",
     "output_type": "stream",
     "text": [
      "Epoch: 169, train_loss=0.04977851322386414, valid_loss=0.03637978509068489  cer_new 0.004999999888241291 lr=0.00017294402999999992\n"
     ]
    },
    {
     "name": "stderr",
     "output_type": "stream",
     "text": [
      "100%|██████████| 100/100 [00:02<00:00, 45.43it/s]\n",
      "100%|██████████| 25/25 [00:00<00:00, 51.51it/s]\n"
     ]
    },
    {
     "name": "stdout",
     "output_type": "stream",
     "text": [
      "Epoch: 170, train_loss=0.051206762958318, valid_loss=0.03647589221596718  cer_new 0.007000000216066837 lr=0.00017294402999999992\n"
     ]
    },
    {
     "name": "stderr",
     "output_type": "stream",
     "text": [
      "100%|██████████| 100/100 [00:02<00:00, 46.05it/s]\n",
      "100%|██████████| 25/25 [00:00<00:00, 51.49it/s]\n"
     ]
    },
    {
     "name": "stdout",
     "output_type": "stream",
     "text": [
      "Epoch: 171, train_loss=0.049495092078577725, valid_loss=0.035944218002259734  cer_new 0.004999999888241291 lr=0.00017294402999999992\n"
     ]
    },
    {
     "name": "stderr",
     "output_type": "stream",
     "text": [
      "100%|██████████| 100/100 [00:02<00:00, 45.22it/s]\n",
      "100%|██████████| 25/25 [00:00<00:00, 46.19it/s]\n"
     ]
    },
    {
     "name": "stdout",
     "output_type": "stream",
     "text": [
      "Epoch: 172, train_loss=0.04737097101286054, valid_loss=0.03624870141036809  cer_new 0.004999999888241291 lr=0.00017294402999999992\n"
     ]
    },
    {
     "name": "stderr",
     "output_type": "stream",
     "text": [
      "100%|██████████| 100/100 [00:02<00:00, 45.33it/s]\n",
      "100%|██████████| 25/25 [00:00<00:00, 52.74it/s]\n"
     ]
    },
    {
     "name": "stdout",
     "output_type": "stream",
     "text": [
      "Epoch: 173, train_loss=0.04395684869028628, valid_loss=0.039990033553913236  cer_new 0.004000000189989805 lr=0.00017294402999999992\n"
     ]
    },
    {
     "name": "stderr",
     "output_type": "stream",
     "text": [
      "100%|██████████| 100/100 [00:02<00:00, 46.05it/s]\n",
      "100%|██████████| 25/25 [00:00<00:00, 53.75it/s]\n"
     ]
    },
    {
     "name": "stdout",
     "output_type": "stream",
     "text": [
      "Epoch: 174, train_loss=0.05011453306302428, valid_loss=0.04499686877243221  cer_new 0.007000000216066837 lr=0.00017294402999999992\n"
     ]
    },
    {
     "name": "stderr",
     "output_type": "stream",
     "text": [
      "100%|██████████| 100/100 [00:02<00:00, 45.63it/s]\n",
      "100%|██████████| 25/25 [00:00<00:00, 50.32it/s]\n"
     ]
    },
    {
     "name": "stdout",
     "output_type": "stream",
     "text": [
      "Epoch: 175, train_loss=0.04078972440212965, valid_loss=0.04038399683311582  cer_new 0.007000000216066837 lr=0.00017294402999999992\n"
     ]
    },
    {
     "name": "stderr",
     "output_type": "stream",
     "text": [
      "100%|██████████| 100/100 [00:02<00:00, 38.06it/s]\n",
      "100%|██████████| 25/25 [00:00<00:00, 42.46it/s]\n"
     ]
    },
    {
     "name": "stdout",
     "output_type": "stream",
     "text": [
      "Epoch: 176, train_loss=0.04634638909716159, valid_loss=0.03891341093927622  cer_new 0.006000000052154064 lr=0.00017294402999999992\n"
     ]
    },
    {
     "name": "stderr",
     "output_type": "stream",
     "text": [
      "100%|██████████| 100/100 [00:02<00:00, 46.23it/s]\n",
      "100%|██████████| 25/25 [00:00<00:00, 54.41it/s]\n"
     ]
    },
    {
     "name": "stdout",
     "output_type": "stream",
     "text": [
      "Epoch: 177, train_loss=0.04321023774566129, valid_loss=0.03822650950402021  cer_new 0.004000000189989805 lr=0.00017294402999999992\n",
      "Epoch 00178: reducing learning rate of group 0 to 1.2106e-04.\n"
     ]
    },
    {
     "name": "stderr",
     "output_type": "stream",
     "text": [
      "100%|██████████| 100/100 [00:02<00:00, 46.35it/s]\n",
      "100%|██████████| 25/25 [00:00<00:00, 52.84it/s]\n"
     ]
    },
    {
     "name": "stdout",
     "output_type": "stream",
     "text": [
      "Epoch: 178, train_loss=0.04138268149923533, valid_loss=0.03949336560443044  cer_new 0.006000000052154064 lr=0.00012106082099999994\n"
     ]
    },
    {
     "name": "stderr",
     "output_type": "stream",
     "text": [
      "100%|██████████| 100/100 [00:02<00:00, 45.09it/s]\n",
      "100%|██████████| 25/25 [00:00<00:00, 38.46it/s]\n"
     ]
    },
    {
     "name": "stdout",
     "output_type": "stream",
     "text": [
      "Epoch: 179, train_loss=0.04123294072691351, valid_loss=0.04030675482936204  cer_new 0.006000000052154064 lr=0.00012106082099999994\n"
     ]
    },
    {
     "name": "stderr",
     "output_type": "stream",
     "text": [
      "100%|██████████| 100/100 [00:02<00:00, 46.42it/s]\n",
      "100%|██████████| 25/25 [00:00<00:00, 53.83it/s]\n"
     ]
    },
    {
     "name": "stdout",
     "output_type": "stream",
     "text": [
      "Epoch: 180, train_loss=0.04475422422867268, valid_loss=0.03992353123612702  cer_new 0.006000000052154064 lr=0.00012106082099999994\n"
     ]
    },
    {
     "name": "stderr",
     "output_type": "stream",
     "text": [
      "100%|██████████| 100/100 [00:02<00:00, 46.60it/s]\n",
      "100%|██████████| 25/25 [00:00<00:00, 53.57it/s]\n"
     ]
    },
    {
     "name": "stdout",
     "output_type": "stream",
     "text": [
      "Epoch: 181, train_loss=0.04343967308755964, valid_loss=0.039776480020955206  cer_new 0.006000000052154064 lr=0.00012106082099999994\n"
     ]
    },
    {
     "name": "stderr",
     "output_type": "stream",
     "text": [
      "100%|██████████| 100/100 [00:02<00:00, 46.55it/s]\n",
      "100%|██████████| 25/25 [00:00<00:00, 53.44it/s]\n"
     ]
    },
    {
     "name": "stdout",
     "output_type": "stream",
     "text": [
      "Epoch: 182, train_loss=0.04117095215246081, valid_loss=0.037899025455117225  cer_new 0.004999999888241291 lr=0.00012106082099999994\n"
     ]
    },
    {
     "name": "stderr",
     "output_type": "stream",
     "text": [
      "100%|██████████| 100/100 [00:02<00:00, 42.96it/s]\n",
      "100%|██████████| 25/25 [00:00<00:00, 53.20it/s]\n"
     ]
    },
    {
     "name": "stdout",
     "output_type": "stream",
     "text": [
      "Epoch: 183, train_loss=0.042060735411942, valid_loss=0.03952448783442378  cer_new 0.004999999888241291 lr=0.00012106082099999994\n",
      "Epoch 00184: reducing learning rate of group 0 to 8.4743e-05.\n"
     ]
    },
    {
     "name": "stderr",
     "output_type": "stream",
     "text": [
      "100%|██████████| 100/100 [00:02<00:00, 46.27it/s]\n",
      "100%|██████████| 25/25 [00:00<00:00, 55.01it/s]\n"
     ]
    },
    {
     "name": "stdout",
     "output_type": "stream",
     "text": [
      "Epoch: 184, train_loss=0.04634985112585127, valid_loss=0.036400681715458634  cer_new 0.004999999888241291 lr=8.474257469999996e-05\n"
     ]
    },
    {
     "name": "stderr",
     "output_type": "stream",
     "text": [
      "100%|██████████| 100/100 [00:02<00:00, 46.08it/s]\n",
      "100%|██████████| 25/25 [00:00<00:00, 53.26it/s]\n"
     ]
    },
    {
     "name": "stdout",
     "output_type": "stream",
     "text": [
      "Epoch: 185, train_loss=0.04778088929131627, valid_loss=0.039003305593505504  cer_new 0.006000000052154064 lr=8.474257469999996e-05\n"
     ]
    },
    {
     "name": "stderr",
     "output_type": "stream",
     "text": [
      "100%|██████████| 100/100 [00:02<00:00, 41.25it/s]\n",
      "100%|██████████| 25/25 [00:00<00:00, 30.90it/s]\n"
     ]
    },
    {
     "name": "stdout",
     "output_type": "stream",
     "text": [
      "Epoch: 186, train_loss=0.04786189255537465, valid_loss=0.038163693137466904  cer_new 0.003000000026077032 lr=8.474257469999996e-05\n"
     ]
    },
    {
     "name": "stderr",
     "output_type": "stream",
     "text": [
      "100%|██████████| 100/100 [00:02<00:00, 46.43it/s]\n",
      "100%|██████████| 25/25 [00:00<00:00, 54.05it/s]\n"
     ]
    },
    {
     "name": "stdout",
     "output_type": "stream",
     "text": [
      "Epoch: 187, train_loss=0.04779582691378891, valid_loss=0.0379421915858984  cer_new 0.004000000189989805 lr=8.474257469999996e-05\n"
     ]
    },
    {
     "name": "stderr",
     "output_type": "stream",
     "text": [
      "100%|██████████| 100/100 [00:02<00:00, 46.25it/s]\n",
      "100%|██████████| 25/25 [00:00<00:00, 55.13it/s]\n"
     ]
    },
    {
     "name": "stdout",
     "output_type": "stream",
     "text": [
      "Epoch: 188, train_loss=0.04966316451784223, valid_loss=0.037802186207845805  cer_new 0.004999999888241291 lr=8.474257469999996e-05\n"
     ]
    },
    {
     "name": "stderr",
     "output_type": "stream",
     "text": [
      "100%|██████████| 100/100 [00:02<00:00, 44.92it/s]\n",
      "100%|██████████| 25/25 [00:00<00:00, 54.51it/s]\n"
     ]
    },
    {
     "name": "stdout",
     "output_type": "stream",
     "text": [
      "Epoch: 189, train_loss=0.04211139883846045, valid_loss=0.038708434263244273  cer_new 0.004000000189989805 lr=8.474257469999996e-05\n",
      "Epoch 00190: reducing learning rate of group 0 to 5.9320e-05.\n"
     ]
    },
    {
     "name": "stderr",
     "output_type": "stream",
     "text": [
      "100%|██████████| 100/100 [00:02<00:00, 43.60it/s]\n",
      "100%|██████████| 25/25 [00:00<00:00, 51.92it/s]\n"
     ]
    },
    {
     "name": "stdout",
     "output_type": "stream",
     "text": [
      "Epoch: 190, train_loss=0.04390748058911413, valid_loss=0.03906854801811278  cer_new 0.004999999888241291 lr=5.931980228999997e-05\n"
     ]
    },
    {
     "name": "stderr",
     "output_type": "stream",
     "text": [
      "100%|██████████| 100/100 [00:02<00:00, 46.46it/s]\n",
      "100%|██████████| 25/25 [00:00<00:00, 55.72it/s]\n"
     ]
    },
    {
     "name": "stdout",
     "output_type": "stream",
     "text": [
      "Epoch: 191, train_loss=0.03978548867162317, valid_loss=0.03863009762950242  cer_new 0.006000000052154064 lr=5.931980228999997e-05\n"
     ]
    },
    {
     "name": "stderr",
     "output_type": "stream",
     "text": [
      "100%|██████████| 100/100 [00:02<00:00, 45.24it/s]\n",
      "100%|██████████| 25/25 [00:00<00:00, 46.75it/s]\n"
     ]
    },
    {
     "name": "stdout",
     "output_type": "stream",
     "text": [
      "Epoch: 192, train_loss=0.04829933595377952, valid_loss=0.03869609859772027  cer_new 0.006000000052154064 lr=5.931980228999997e-05\n"
     ]
    },
    {
     "name": "stderr",
     "output_type": "stream",
     "text": [
      "100%|██████████| 100/100 [00:02<00:00, 44.54it/s]\n",
      "100%|██████████| 25/25 [00:00<00:00, 39.31it/s]\n"
     ]
    },
    {
     "name": "stdout",
     "output_type": "stream",
     "text": [
      "Epoch: 193, train_loss=0.0434659803006798, valid_loss=0.037715210085734724  cer_new 0.004999999888241291 lr=5.931980228999997e-05\n"
     ]
    },
    {
     "name": "stderr",
     "output_type": "stream",
     "text": [
      "100%|██████████| 100/100 [00:02<00:00, 45.63it/s]\n",
      "100%|██████████| 25/25 [00:00<00:00, 50.48it/s]\n"
     ]
    },
    {
     "name": "stdout",
     "output_type": "stream",
     "text": [
      "Epoch: 194, train_loss=0.0462316571502015, valid_loss=0.03880674845539033  cer_new 0.006000000052154064 lr=5.931980228999997e-05\n"
     ]
    },
    {
     "name": "stderr",
     "output_type": "stream",
     "text": [
      "100%|██████████| 100/100 [00:02<00:00, 46.86it/s]\n",
      "100%|██████████| 25/25 [00:00<00:00, 52.22it/s]\n"
     ]
    },
    {
     "name": "stdout",
     "output_type": "stream",
     "text": [
      "Epoch: 195, train_loss=0.0508736031409353, valid_loss=0.03874555004760623  cer_new 0.006000000052154064 lr=5.931980228999997e-05\n",
      "Epoch 00196: reducing learning rate of group 0 to 4.1524e-05.\n"
     ]
    },
    {
     "name": "stderr",
     "output_type": "stream",
     "text": [
      "100%|██████████| 100/100 [00:02<00:00, 40.72it/s]\n",
      "100%|██████████| 25/25 [00:00<00:00, 47.12it/s]\n"
     ]
    },
    {
     "name": "stdout",
     "output_type": "stream",
     "text": [
      "Epoch: 196, train_loss=0.03762073977384716, valid_loss=0.038516026306897405  cer_new 0.006000000052154064 lr=4.1523861602999974e-05\n"
     ]
    },
    {
     "name": "stderr",
     "output_type": "stream",
     "text": [
      "100%|██████████| 100/100 [00:02<00:00, 43.54it/s]\n",
      "100%|██████████| 25/25 [00:00<00:00, 50.30it/s]\n"
     ]
    },
    {
     "name": "stdout",
     "output_type": "stream",
     "text": [
      "Epoch: 197, train_loss=0.04797049618791789, valid_loss=0.03892420390620828  cer_new 0.006000000052154064 lr=4.1523861602999974e-05\n"
     ]
    },
    {
     "name": "stderr",
     "output_type": "stream",
     "text": [
      "100%|██████████| 100/100 [00:02<00:00, 46.88it/s]\n",
      "100%|██████████| 25/25 [00:00<00:00, 53.59it/s]\n"
     ]
    },
    {
     "name": "stdout",
     "output_type": "stream",
     "text": [
      "Epoch: 198, train_loss=0.03958682037889957, valid_loss=0.03802723362110555  cer_new 0.006000000052154064 lr=4.1523861602999974e-05\n"
     ]
    },
    {
     "name": "stderr",
     "output_type": "stream",
     "text": [
      "100%|██████████| 100/100 [00:02<00:00, 46.55it/s]\n",
      "100%|██████████| 25/25 [00:00<00:00, 52.08it/s]\n"
     ]
    },
    {
     "name": "stdout",
     "output_type": "stream",
     "text": [
      "Epoch: 199, train_loss=0.043338848343119026, valid_loss=0.03783740054816007  cer_new 0.006000000052154064 lr=4.1523861602999974e-05\n"
     ]
    }
   ],
   "source": [
    "model.to(DEVICE)\n",
    "for epoch in range(EPOCHS):\n",
    "    t_pred, t_los = train_one_epoch(model, train_dataloader, optimizer)\n",
    "    v_pred, v_los = predict(model, val_dataloader)\n",
    "\n",
    "    my_preds_new = []\n",
    "    for vp in v_pred:\n",
    "        \n",
    "        new_predictions = my_predictions_decoder_new(vp, encoder)\n",
    "        my_preds_new.extend(new_predictions)\n",
    "\n",
    "    learn_rate = optimizer.state_dict()['param_groups'][0]['lr']\n",
    "    cer_new = torchmetrics.functional.char_error_rate(my_preds_new, valid_labels)\n",
    "    print(f'Epoch: {epoch}, train_loss={t_los}, valid_loss={v_los}  cer_new {cer_new} lr={learn_rate}') \n",
    "    scheduler.step(v_los)\n",
    "    \n",
    "#     if cer_new < 0.004:\n",
    "#         print('Acceptable CER achieved! My model cannot do better for now ')\n",
    "#         break"
   ]
  },
  {
   "cell_type": "markdown",
   "metadata": {},
   "source": [
    "### Провалидируем модель и посмотрим на полученные предсказания"
   ]
  },
  {
   "cell_type": "code",
   "execution_count": 67,
   "metadata": {
    "execution": {
     "iopub.execute_input": "2023-02-13T00:02:15.193812Z",
     "iopub.status.busy": "2023-02-13T00:02:15.193416Z",
     "iopub.status.idle": "2023-02-13T00:02:15.733936Z",
     "shell.execute_reply": "2023-02-13T00:02:15.732712Z",
     "shell.execute_reply.started": "2023-02-13T00:02:15.193774Z"
    }
   },
   "outputs": [
    {
     "name": "stderr",
     "output_type": "stream",
     "text": [
      "100%|██████████| 25/25 [00:00<00:00, 47.37it/s]\n"
     ]
    }
   ],
   "source": [
    "v_pred, v_los = predict(model, val_dataloader)"
   ]
  },
  {
   "cell_type": "markdown",
   "metadata": {},
   "source": [
    "### Посчитаем число неверно предсказанных лейблов (есть хотя бы 1 ошибка)"
   ]
  },
  {
   "cell_type": "code",
   "execution_count": 68,
   "metadata": {
    "execution": {
     "iopub.execute_input": "2023-02-13T00:02:17.628008Z",
     "iopub.status.busy": "2023-02-13T00:02:17.627623Z",
     "iopub.status.idle": "2023-02-13T00:02:18.065547Z",
     "shell.execute_reply": "2023-02-13T00:02:18.064425Z",
     "shell.execute_reply.started": "2023-02-13T00:02:17.627972Z"
    }
   },
   "outputs": [
    {
     "name": "stdout",
     "output_type": "stream",
     "text": [
      "Всего ошибки допущены в 6 лейблах от общего количества 200 лейблов из валидационной выборки\n"
     ]
    }
   ],
   "source": [
    "my_preds = []\n",
    "for vp in v_pred:\n",
    "    predictions = my_predictions_decoder_new(vp, encoder)\n",
    "    my_preds.extend(predictions)\n",
    "\n",
    "errors = [(pr, vl) for (pr, vl) in zip(my_preds, valid_labels) if pr!=vl]\n",
    "print('Всего ошибки допущены в', len(errors), 'лейблах от общего количества', len(my_preds), 'лейблов из валидационной выборки')"
   ]
  },
  {
   "cell_type": "markdown",
   "metadata": {},
   "source": [
    "### Проанализируем типы встречающихся ошибок\n",
    "- Декодер неправильно раскодировал последовательность символов. Это первый тип встречавшихся ошибок, который дает вклад в ошибку CER - раскодированная последовательность либо слишком длинная, либо слишком короткая. Получилось выделить некоторые кейсы, на которых предсказывалась последовательность из 6 символов вместо 5. Добавление проверки длины предсказания внутри декодера и удаление наименее вероятного в последовательности символа решило данную проблему. Также такая проблема встречается в случае, когда декодировщик выдает короткую последовательность, такую ошибку сложнее исправить. Наверное, данные ошибки можно было просто скомпенсировать более долгим обучением модели \n",
    "- Модель путает буквы. Такие ошибки встречаются в случае, когда на картинке присутствует шум или написание букв схожее (n-m)\n",
    "- Модель не уверена в своем ответе, но символ пропуска все равно является следующим наиболее вероятным символом в последовательности. В таком случае происходит \"недопрогноз\" последовательности - выходная последовательность символов короче 5."
   ]
  },
  {
   "cell_type": "markdown",
   "metadata": {},
   "source": [
    "### 1) Декодер неправильно раскодировал последовательность символов\n",
    "С этой ошибкой получилось справится, доработав код декодера"
   ]
  },
  {
   "cell_type": "code",
   "execution_count": 69,
   "metadata": {
    "execution": {
     "iopub.execute_input": "2023-02-13T00:02:32.960593Z",
     "iopub.status.busy": "2023-02-13T00:02:32.960226Z",
     "iopub.status.idle": "2023-02-13T00:02:32.966055Z",
     "shell.execute_reply": "2023-02-13T00:02:32.965130Z",
     "shell.execute_reply.started": "2023-02-13T00:02:32.960561Z"
    }
   },
   "outputs": [],
   "source": [
    "# Исправленные кейсы длинных последовательностей, сначала идет предсказание модели, потом корректный лейбл\n",
    "longer_idx, longer_exmpl = ([60, 80, 136, 174, 191, 249],\n",
    " [('bnxc2f', 'bnc2f'),\n",
    "  ('mmb4en', 'mb4en'),\n",
    "  ('gd4mmf', 'gd4mf'),\n",
    "  ('7mgmmf', '7mgmf'),\n",
    "  ('bbymmy', 'bbymy'),\n",
    "  ('mm5meg', 'm5meg')])"
   ]
  },
  {
   "cell_type": "markdown",
   "metadata": {
    "execution": {
     "iopub.execute_input": "2023-02-12T19:34:10.718937Z",
     "iopub.status.busy": "2023-02-12T19:34:10.718548Z",
     "iopub.status.idle": "2023-02-12T19:34:10.725915Z",
     "shell.execute_reply": "2023-02-12T19:34:10.724902Z",
     "shell.execute_reply.started": "2023-02-12T19:34:10.718905Z"
    }
   },
   "source": [
    "### 2) Модель путает буквы"
   ]
  },
  {
   "cell_type": "code",
   "execution_count": 71,
   "metadata": {
    "execution": {
     "iopub.execute_input": "2023-02-13T00:03:13.798273Z",
     "iopub.status.busy": "2023-02-13T00:03:13.797882Z",
     "iopub.status.idle": "2023-02-13T00:03:13.808250Z",
     "shell.execute_reply": "2023-02-13T00:03:13.807273Z",
     "shell.execute_reply.started": "2023-02-13T00:03:13.798240Z"
    }
   },
   "outputs": [
    {
     "name": "stdout",
     "output_type": "stream",
     "text": [
      "Всего ошибок второго типа встречается: 3\n"
     ]
    },
    {
     "data": {
      "text/plain": [
       "[('c86nd', 'c86md', 94), ('ddnyg', 'ddmyg', 119), ('wgmwp', 'wgnwp', 169)]"
      ]
     },
     "execution_count": 71,
     "metadata": {},
     "output_type": "execute_result"
    }
   ],
   "source": [
    "# prediction errors - здесь мы путаем лейблы - плохо распознаем картинки и путаем символы \n",
    "pred_errs = [(pred, orig) for (pred, orig) in errors if len(pred) == 5]\n",
    "pred_idx = []\n",
    "for pred, lbl in pred_errs:\n",
    "    for idx, orig_lbl in enumerate(valid_labels):\n",
    "        if lbl == orig_lbl:\n",
    "            pred_idx.append((pred, orig_lbl, idx))\n",
    "print('Всего ошибок второго типа встречается:', len(pred_idx))\n",
    "pred_idx[:]"
   ]
  },
  {
   "cell_type": "markdown",
   "metadata": {
    "execution": {
     "iopub.execute_input": "2023-02-12T19:33:08.853296Z",
     "iopub.status.busy": "2023-02-12T19:33:08.852869Z",
     "iopub.status.idle": "2023-02-12T19:33:08.865343Z",
     "shell.execute_reply": "2023-02-12T19:33:08.864152Z",
     "shell.execute_reply.started": "2023-02-12T19:33:08.853260Z"
    }
   },
   "source": [
    "Из данных кейсов видно, что модель плохо отличает букву m от n, когда на картинке присутствует шум. \n",
    "Возможно, модель не научилась хорошо отличать m и n, также на предсказание могло повлиять то, что буква n встречается в 2 раза чаще в датасете, чем m - с большей вероятностью модель захочет предсказать именно ее, если будут какие-либо помехи для четкого определения буквы (шум, наложение символов, слияние границ символов)"
   ]
  },
  {
   "cell_type": "code",
   "execution_count": 72,
   "metadata": {
    "execution": {
     "iopub.execute_input": "2023-02-13T00:04:27.905611Z",
     "iopub.status.busy": "2023-02-13T00:04:27.904930Z",
     "iopub.status.idle": "2023-02-13T00:04:27.919777Z",
     "shell.execute_reply": "2023-02-13T00:04:27.918501Z",
     "shell.execute_reply.started": "2023-02-13T00:04:27.905573Z"
    }
   },
   "outputs": [
    {
     "name": "stdout",
     "output_type": "stream",
     "text": [
      "Predicted: c86nd\n",
      "True lbl: c86md\n"
     ]
    },
    {
     "data": {
      "image/png": "[encoded data removed]",
      "text/plain": [
       "<PIL.Image.Image image mode=RGB size=200x50>"
      ]
     },
     "execution_count": 72,
     "metadata": {},
     "output_type": "execute_result"
    }
   ],
   "source": [
    "pred, orig_lbl, idx = pred_idx[0]\n",
    "pth = path + orig_lbl + '.png'\n",
    "print('Predicted:', pred)\n",
    "print('True lbl:', orig_lbl)\n",
    "Image.open(pth).convert('RGB')"
   ]
  },
  {
   "cell_type": "code",
   "execution_count": 73,
   "metadata": {
    "execution": {
     "iopub.execute_input": "2023-02-13T00:04:30.770265Z",
     "iopub.status.busy": "2023-02-13T00:04:30.769220Z",
     "iopub.status.idle": "2023-02-13T00:04:30.782545Z",
     "shell.execute_reply": "2023-02-13T00:04:30.781273Z",
     "shell.execute_reply.started": "2023-02-13T00:04:30.770219Z"
    }
   },
   "outputs": [
    {
     "name": "stdout",
     "output_type": "stream",
     "text": [
      "Predicted: ddnyg\n",
      "True lbl: ddmyg\n"
     ]
    },
    {
     "data": {
      "image/png": "[encoded data removed]",
      "text/plain": [
       "<PIL.Image.Image image mode=RGB size=200x50>"
      ]
     },
     "execution_count": 73,
     "metadata": {},
     "output_type": "execute_result"
    }
   ],
   "source": [
    "pred, orig_lbl, idx = pred_idx[1]\n",
    "pth = path + orig_lbl + '.png'\n",
    "print('Predicted:', pred)\n",
    "print('True lbl:', orig_lbl)\n",
    "Image.open(pth).convert('RGB')"
   ]
  },
  {
   "cell_type": "code",
   "execution_count": 76,
   "metadata": {
    "execution": {
     "iopub.execute_input": "2023-02-13T00:04:48.670994Z",
     "iopub.status.busy": "2023-02-13T00:04:48.670601Z",
     "iopub.status.idle": "2023-02-13T00:04:48.685169Z",
     "shell.execute_reply": "2023-02-13T00:04:48.683778Z",
     "shell.execute_reply.started": "2023-02-13T00:04:48.670950Z"
    }
   },
   "outputs": [
    {
     "name": "stdout",
     "output_type": "stream",
     "text": [
      "Predicted: wgmwp\n",
      "True lbl: wgnwp\n"
     ]
    },
    {
     "data": {
      "image/png": "[encoded data removed]",
      "text/plain": [
       "<PIL.Image.Image image mode=RGB size=200x50>"
      ]
     },
     "execution_count": 76,
     "metadata": {},
     "output_type": "execute_result"
    }
   ],
   "source": [
    "pred, orig_lbl, idx = pred_idx[2]\n",
    "pth = path + orig_lbl + '.png'\n",
    "print('Predicted:', pred)\n",
    "print('True lbl:', orig_lbl)\n",
    "Image.open(pth).convert('RGB')"
   ]
  },
  {
   "cell_type": "markdown",
   "metadata": {},
   "source": [
    "### 3) Модель предсказывает последовательность короче 5 символов\n",
    "Скорее всего данная ошибка означает то, что модель не уверена, символ ли перед ней или какой-то шум. Данную ошибку можно исправить путем выбора 2 наиболее вероятных символов, если видим, что модель не обладает достаточной уверенностью в текущем предсказании символа, а потом из 2 наиболее вероятных символов выбираем тот, что не blank, если увидим, что длина предсказанной на данный момент последовательности меньше 5.\n",
    "В данных конкретных кейсах модель не может угадать символы, на которых много помех (перекрещивающиеся линии, шум)"
   ]
  },
  {
   "cell_type": "code",
   "execution_count": 77,
   "metadata": {
    "execution": {
     "iopub.execute_input": "2023-02-13T00:04:54.352478Z",
     "iopub.status.busy": "2023-02-13T00:04:54.352114Z",
     "iopub.status.idle": "2023-02-13T00:04:54.565067Z",
     "shell.execute_reply": "2023-02-13T00:04:54.563860Z",
     "shell.execute_reply.started": "2023-02-13T00:04:54.352447Z"
    }
   },
   "outputs": [
    {
     "name": "stdout",
     "output_type": "stream",
     "text": [
      "Всего ошибок третьего типа встречается: 3\n"
     ]
    },
    {
     "data": {
      "text/plain": [
       "[('8ggg', '8eggg', 22), ('x3wg', 'cx3wg', 39), ('decc', 'ndecc', 199)]"
      ]
     },
     "execution_count": 77,
     "metadata": {},
     "output_type": "execute_result"
    }
   ],
   "source": [
    "short_errs = [(pred, orig) for (pred, orig) in errors if len(pred) < 5]\n",
    "short_idx = []\n",
    "for pred, lbl in short_errs:\n",
    "    for idx, orig_lbl in enumerate(valid_labels):\n",
    "        if lbl == orig_lbl:\n",
    "            short_idx.append((pred, orig_lbl, idx))\n",
    "print('Всего ошибок третьего типа встречается:', len(short_idx))\n",
    "short_idx[:10]"
   ]
  },
  {
   "cell_type": "code",
   "execution_count": 80,
   "metadata": {
    "execution": {
     "iopub.execute_input": "2023-02-13T00:05:30.933377Z",
     "iopub.status.busy": "2023-02-13T00:05:30.932995Z",
     "iopub.status.idle": "2023-02-13T00:05:30.946248Z",
     "shell.execute_reply": "2023-02-13T00:05:30.945003Z",
     "shell.execute_reply.started": "2023-02-13T00:05:30.933346Z"
    }
   },
   "outputs": [
    {
     "name": "stdout",
     "output_type": "stream",
     "text": [
      "Predicted: 8ggg\n",
      "True lbl: 8eggg\n"
     ]
    },
    {
     "data": {
      "image/png": "[encoded data removed]",
      "text/plain": [
       "<PIL.Image.Image image mode=RGB size=200x50>"
      ]
     },
     "execution_count": 80,
     "metadata": {},
     "output_type": "execute_result"
    }
   ],
   "source": [
    "pred, orig_lbl, idx = short_idx[0]\n",
    "pth = path + orig_lbl + '.png'\n",
    "print('Predicted:', pred)\n",
    "print('True lbl:', orig_lbl)\n",
    "Image.open(pth).convert('RGB')"
   ]
  },
  {
   "cell_type": "code",
   "execution_count": 81,
   "metadata": {
    "execution": {
     "iopub.execute_input": "2023-02-13T00:05:37.377679Z",
     "iopub.status.busy": "2023-02-13T00:05:37.376986Z",
     "iopub.status.idle": "2023-02-13T00:05:37.389791Z",
     "shell.execute_reply": "2023-02-13T00:05:37.388720Z",
     "shell.execute_reply.started": "2023-02-13T00:05:37.377642Z"
    }
   },
   "outputs": [
    {
     "name": "stdout",
     "output_type": "stream",
     "text": [
      "Predicted: x3wg\n",
      "True lbl: cx3wg\n"
     ]
    },
    {
     "data": {
      "image/png": "[encoded data removed]",
      "text/plain": [
       "<PIL.Image.Image image mode=RGB size=200x50>"
      ]
     },
     "execution_count": 81,
     "metadata": {},
     "output_type": "execute_result"
    }
   ],
   "source": [
    "pred, orig_lbl, idx = short_idx[1]\n",
    "pth = path + orig_lbl + '.png'\n",
    "print('Predicted:', pred)\n",
    "print('True lbl:', orig_lbl)\n",
    "Image.open(pth).convert('RGB')"
   ]
  },
  {
   "cell_type": "code",
   "execution_count": 82,
   "metadata": {
    "execution": {
     "iopub.execute_input": "2023-02-13T00:05:49.222446Z",
     "iopub.status.busy": "2023-02-13T00:05:49.222043Z",
     "iopub.status.idle": "2023-02-13T00:05:49.234665Z",
     "shell.execute_reply": "2023-02-13T00:05:49.233501Z",
     "shell.execute_reply.started": "2023-02-13T00:05:49.222414Z"
    }
   },
   "outputs": [
    {
     "name": "stdout",
     "output_type": "stream",
     "text": [
      "Predicted: decc\n",
      "True lbl: ndecc\n"
     ]
    },
    {
     "data": {
      "image/png": "[encoded data removed]",
      "text/plain": [
       "<PIL.Image.Image image mode=RGB size=200x50>"
      ]
     },
     "execution_count": 82,
     "metadata": {},
     "output_type": "execute_result"
    }
   ],
   "source": [
    "pred, orig_lbl, idx = short_idx[2]\n",
    "pth = path + orig_lbl + '.png'\n",
    "print('Predicted:', pred)\n",
    "print('True lbl:', orig_lbl)\n",
    "Image.open(pth).convert('RGB')"
   ]
  },
  {
   "cell_type": "markdown",
   "metadata": {},
   "source": [
    "### Итог\n",
    "Была обучена модель для распознавания картинок с символами капчи. В качестве датасета были взяты изображения из рекомендованных, однако выборка была сокращена до 1000 изображений из-за внутренних настроек платформы кэггл.\n",
    "\n",
    "В качестве эксперимента во время поиска оптимальной модели рассматривалось использование дополнительных аугментаций (рандомный поворот изображения, добавление блюра), приведение изображения к одноканальному, использование трешхолдинга, dilation, opening на изображениях, изменение размера сверточных ядер в слоях модели (квадратные, прямоугольные (6,3), прямоугольные (3,6)), изменение размера батча (начиная от 3х картинок до 32 изображений в батче) для достижения оптимального качества модели. Большинсто из этих настроек не принесли особого увеличения качества модели, поэтому в итоговой версии кода от них не осталось следа. \n",
    "Наиболее оптимальным размером батча был размер 6-8. Ядро свертки (3, 6) способствовало наилучшему обучению модели, предположительно из-за того, что символы по горизонтали наиболее отличаются друг от друга. \n",
    "\n",
    "Обученная модель провалидирована на тестовой выборке, полученный результат:\n",
    "\n",
    "- train_loss=0.0433\n",
    "- valid_loss=0.0378\n",
    "- cer=0.0060\n",
    "\n",
    "В предсказаниях на валидационной выборке было выделено 3 вида наиболее часто встречающихся ошибок- одну из которых удалось исправить во время отладки кода декодера последовательности с помощью проверки на длину декодируемой последовательности (возможно, при более длительном обучении данные ошибки исчезли сами). \n",
    "\n",
    "Решение проблемы распознавания букв n, m, вероятно, можно решить несколькими путями:\n",
    "\n",
    "1) Сбалансировать датасет, чтобы данные буквы встречались с примерно одинаковой частотой\n",
    "\n",
    "2) Так как модель путалась в случае, когда на картинке с буквами n, m встречались шумы и помехи, можно применять дополнительные аугментации, чтобы повысить четкость расплывчатых букв. В найденных ошибочных кейсах буква m была сильно расплывчата, контуры данной буквы не всегда виднелись, либо она стояла очень близко к другой букве, что их контуры практически сливались, что могло повлиять на предсказание модели\n",
    "\n",
    "Проблему недопредсказания последовательности можно решить путем устранения шума с картинок, так как в выявленных кейсах неразгаданная буква была всегда в окружении шума, причем шум мешал восприятию характерных элементов символа (например, палочка в букве е, либо же замыкание буквы n снизу делает ее не похожений ни на один лейбл), перекрещивание символа с крестом, также мешает идентификации символа."
   ]
  }
 ],
 "metadata": {
  "kernelspec": {
   "display_name": "Python 3 (ipykernel)",
   "language": "python",
   "name": "python3"
  },
  "language_info": {
   "codemirror_mode": {
    "name": "ipython",
    "version": 3
   },
   "file_extension": ".py",
   "mimetype": "text/x-python",
   "name": "python",
   "nbconvert_exporter": "python",
   "pygments_lexer": "ipython3",
   "version": "3.9.13"
  }
 },
 "nbformat": 4,
 "nbformat_minor": 4
}
